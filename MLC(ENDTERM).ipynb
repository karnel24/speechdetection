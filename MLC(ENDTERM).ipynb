{
 "cells": [
  {
   "cell_type": "code",
   "execution_count": 1,
   "id": "9808868e",
   "metadata": {},
   "outputs": [],
   "source": [
    "import numpy as np \n",
    "import pandas as pd \n",
    "import os\n",
    "import seaborn as sns\n",
    "import matplotlib.pyplot as plt \n",
    "import warnings\n",
    "warnings.filterwarnings('ignore')"
   ]
  },
  {
   "cell_type": "code",
   "execution_count": 2,
   "id": "740b9a5d",
   "metadata": {},
   "outputs": [],
   "source": [
    "df_twitter=pd.read_csv(\"C:/Users/hp/Downloads/MLC(ENDTERM)/train.csv\")"
   ]
  },
  {
   "cell_type": "code",
   "execution_count": 3,
   "id": "4ead7d88",
   "metadata": {},
   "outputs": [
    {
     "data": {
      "text/html": [
       "<div>\n",
       "<style scoped>\n",
       "    .dataframe tbody tr th:only-of-type {\n",
       "        vertical-align: middle;\n",
       "    }\n",
       "\n",
       "    .dataframe tbody tr th {\n",
       "        vertical-align: top;\n",
       "    }\n",
       "\n",
       "    .dataframe thead th {\n",
       "        text-align: right;\n",
       "    }\n",
       "</style>\n",
       "<table border=\"1\" class=\"dataframe\">\n",
       "  <thead>\n",
       "    <tr style=\"text-align: right;\">\n",
       "      <th></th>\n",
       "      <th>id</th>\n",
       "      <th>label</th>\n",
       "      <th>tweet</th>\n",
       "    </tr>\n",
       "  </thead>\n",
       "  <tbody>\n",
       "    <tr>\n",
       "      <th>0</th>\n",
       "      <td>1</td>\n",
       "      <td>0</td>\n",
       "      <td>@user when a father is dysfunctional and is s...</td>\n",
       "    </tr>\n",
       "    <tr>\n",
       "      <th>1</th>\n",
       "      <td>2</td>\n",
       "      <td>0</td>\n",
       "      <td>@user @user thanks for #lyft credit i can't us...</td>\n",
       "    </tr>\n",
       "    <tr>\n",
       "      <th>2</th>\n",
       "      <td>3</td>\n",
       "      <td>0</td>\n",
       "      <td>bihday your majesty</td>\n",
       "    </tr>\n",
       "    <tr>\n",
       "      <th>3</th>\n",
       "      <td>4</td>\n",
       "      <td>0</td>\n",
       "      <td>#model   i love u take with u all the time in ...</td>\n",
       "    </tr>\n",
       "    <tr>\n",
       "      <th>4</th>\n",
       "      <td>5</td>\n",
       "      <td>0</td>\n",
       "      <td>factsguide: society now    #motivation</td>\n",
       "    </tr>\n",
       "  </tbody>\n",
       "</table>\n",
       "</div>"
      ],
      "text/plain": [
       "   id  label                                              tweet\n",
       "0   1      0   @user when a father is dysfunctional and is s...\n",
       "1   2      0  @user @user thanks for #lyft credit i can't us...\n",
       "2   3      0                                bihday your majesty\n",
       "3   4      0  #model   i love u take with u all the time in ...\n",
       "4   5      0             factsguide: society now    #motivation"
      ]
     },
     "execution_count": 3,
     "metadata": {},
     "output_type": "execute_result"
    }
   ],
   "source": [
    "df_twitter.head()"
   ]
  },
  {
   "cell_type": "code",
   "execution_count": 4,
   "id": "b7a2b9ec",
   "metadata": {},
   "outputs": [
    {
     "data": {
      "text/plain": [
       "<Axes: xlabel='label', ylabel='count'>"
      ]
     },
     "execution_count": 4,
     "metadata": {},
     "output_type": "execute_result"
    },
    {
     "data": {
      "image/png": "[encoded data removed]",
      "text/plain": [
       "<Figure size 640x480 with 1 Axes>"
      ]
     },
     "metadata": {},
     "output_type": "display_data"
    }
   ],
   "source": [
    "sns.countplot(x = 'label',data=df_twitter)"
   ]
  },
  {
   "cell_type": "code",
   "execution_count": 5,
   "id": "1915b4c6",
   "metadata": {},
   "outputs": [
    {
     "data": {
      "text/plain": [
       "(31962, 3)"
      ]
     },
     "execution_count": 5,
     "metadata": {},
     "output_type": "execute_result"
    }
   ],
   "source": [
    "df_twitter.shape"
   ]
  },
  {
   "cell_type": "code",
   "execution_count": 6,
   "id": "fd057353",
   "metadata": {},
   "outputs": [
    {
     "data": {
      "text/plain": [
       "id       0\n",
       "label    0\n",
       "tweet    0\n",
       "dtype: int64"
      ]
     },
     "execution_count": 6,
     "metadata": {},
     "output_type": "execute_result"
    }
   ],
   "source": [
    "df_twitter.isnull().sum()"
   ]
  },
  {
   "cell_type": "code",
   "execution_count": 7,
   "id": "450d0c56",
   "metadata": {},
   "outputs": [],
   "source": [
    "df_twitter.drop('id',axis=1,inplace=True)"
   ]
  },
  {
   "cell_type": "code",
   "execution_count": 8,
   "id": "1d732254",
   "metadata": {},
   "outputs": [],
   "source": [
    "df_offensive=pd.read_csv(\"C:/Users/hp/Downloads/MLC(ENDTERM)/labeled_data.csv\")"
   ]
  },
  {
   "cell_type": "code",
   "execution_count": 9,
   "id": "44c43c9c",
   "metadata": {},
   "outputs": [
    {
     "data": {
      "text/html": [
       "<div>\n",
       "<style scoped>\n",
       "    .dataframe tbody tr th:only-of-type {\n",
       "        vertical-align: middle;\n",
       "    }\n",
       "\n",
       "    .dataframe tbody tr th {\n",
       "        vertical-align: top;\n",
       "    }\n",
       "\n",
       "    .dataframe thead th {\n",
       "        text-align: right;\n",
       "    }\n",
       "</style>\n",
       "<table border=\"1\" class=\"dataframe\">\n",
       "  <thead>\n",
       "    <tr style=\"text-align: right;\">\n",
       "      <th></th>\n",
       "      <th>Unnamed: 0</th>\n",
       "      <th>count</th>\n",
       "      <th>hate_speech</th>\n",
       "      <th>offensive_language</th>\n",
       "      <th>neither</th>\n",
       "      <th>class</th>\n",
       "      <th>tweet</th>\n",
       "    </tr>\n",
       "  </thead>\n",
       "  <tbody>\n",
       "    <tr>\n",
       "      <th>0</th>\n",
       "      <td>0</td>\n",
       "      <td>3</td>\n",
       "      <td>0</td>\n",
       "      <td>0</td>\n",
       "      <td>3</td>\n",
       "      <td>2</td>\n",
       "      <td>!!! RT @mayasolovely: As a woman you shouldn't...</td>\n",
       "    </tr>\n",
       "    <tr>\n",
       "      <th>1</th>\n",
       "      <td>1</td>\n",
       "      <td>3</td>\n",
       "      <td>0</td>\n",
       "      <td>3</td>\n",
       "      <td>0</td>\n",
       "      <td>1</td>\n",
       "      <td>!!!!! RT @mleew17: boy dats cold...tyga dwn ba...</td>\n",
       "    </tr>\n",
       "    <tr>\n",
       "      <th>2</th>\n",
       "      <td>2</td>\n",
       "      <td>3</td>\n",
       "      <td>0</td>\n",
       "      <td>3</td>\n",
       "      <td>0</td>\n",
       "      <td>1</td>\n",
       "      <td>!!!!!!! RT @UrKindOfBrand Dawg!!!! RT @80sbaby...</td>\n",
       "    </tr>\n",
       "    <tr>\n",
       "      <th>3</th>\n",
       "      <td>3</td>\n",
       "      <td>3</td>\n",
       "      <td>0</td>\n",
       "      <td>2</td>\n",
       "      <td>1</td>\n",
       "      <td>1</td>\n",
       "      <td>!!!!!!!!! RT @C_G_Anderson: @viva_based she lo...</td>\n",
       "    </tr>\n",
       "    <tr>\n",
       "      <th>4</th>\n",
       "      <td>4</td>\n",
       "      <td>6</td>\n",
       "      <td>0</td>\n",
       "      <td>6</td>\n",
       "      <td>0</td>\n",
       "      <td>1</td>\n",
       "      <td>!!!!!!!!!!!!! RT @ShenikaRoberts: The shit you...</td>\n",
       "    </tr>\n",
       "  </tbody>\n",
       "</table>\n",
       "</div>"
      ],
      "text/plain": [
       "   Unnamed: 0  count  hate_speech  offensive_language  neither  class  \\\n",
       "0           0      3            0                   0        3      2   \n",
       "1           1      3            0                   3        0      1   \n",
       "2           2      3            0                   3        0      1   \n",
       "3           3      3            0                   2        1      1   \n",
       "4           4      6            0                   6        0      1   \n",
       "\n",
       "                                               tweet  \n",
       "0  !!! RT @mayasolovely: As a woman you shouldn't...  \n",
       "1  !!!!! RT @mleew17: boy dats cold...tyga dwn ba...  \n",
       "2  !!!!!!! RT @UrKindOfBrand Dawg!!!! RT @80sbaby...  \n",
       "3  !!!!!!!!! RT @C_G_Anderson: @viva_based she lo...  \n",
       "4  !!!!!!!!!!!!! RT @ShenikaRoberts: The shit you...  "
      ]
     },
     "execution_count": 9,
     "metadata": {},
     "output_type": "execute_result"
    }
   ],
   "source": [
    "df_offensive.head()"
   ]
  },
  {
   "cell_type": "code",
   "execution_count": 10,
   "id": "53f57f04",
   "metadata": {},
   "outputs": [
    {
     "data": {
      "text/plain": [
       "(24783, 7)"
      ]
     },
     "execution_count": 10,
     "metadata": {},
     "output_type": "execute_result"
    }
   ],
   "source": [
    "df_offensive.shape"
   ]
  },
  {
   "cell_type": "code",
   "execution_count": 11,
   "id": "e470da87",
   "metadata": {},
   "outputs": [
    {
     "data": {
      "text/plain": [
       "Unnamed: 0            0\n",
       "count                 0\n",
       "hate_speech           0\n",
       "offensive_language    0\n",
       "neither               0\n",
       "class                 0\n",
       "tweet                 0\n",
       "dtype: int64"
      ]
     },
     "execution_count": 11,
     "metadata": {},
     "output_type": "execute_result"
    }
   ],
   "source": [
    "df_offensive.isnull().sum()"
   ]
  },
  {
   "cell_type": "code",
   "execution_count": 12,
   "id": "b14984b9",
   "metadata": {},
   "outputs": [],
   "source": [
    "df_offensive.drop(['Unnamed: 0','count','hate_speech','offensive_language','neither'],axis=1,inplace=True)"
   ]
  },
  {
   "cell_type": "code",
   "execution_count": 13,
   "id": "50e940e1",
   "metadata": {},
   "outputs": [
    {
     "data": {
      "text/html": [
       "<div>\n",
       "<style scoped>\n",
       "    .dataframe tbody tr th:only-of-type {\n",
       "        vertical-align: middle;\n",
       "    }\n",
       "\n",
       "    .dataframe tbody tr th {\n",
       "        vertical-align: top;\n",
       "    }\n",
       "\n",
       "    .dataframe thead th {\n",
       "        text-align: right;\n",
       "    }\n",
       "</style>\n",
       "<table border=\"1\" class=\"dataframe\">\n",
       "  <thead>\n",
       "    <tr style=\"text-align: right;\">\n",
       "      <th></th>\n",
       "      <th>class</th>\n",
       "      <th>tweet</th>\n",
       "    </tr>\n",
       "  </thead>\n",
       "  <tbody>\n",
       "    <tr>\n",
       "      <th>0</th>\n",
       "      <td>2</td>\n",
       "      <td>!!! RT @mayasolovely: As a woman you shouldn't...</td>\n",
       "    </tr>\n",
       "    <tr>\n",
       "      <th>1</th>\n",
       "      <td>1</td>\n",
       "      <td>!!!!! RT @mleew17: boy dats cold...tyga dwn ba...</td>\n",
       "    </tr>\n",
       "    <tr>\n",
       "      <th>2</th>\n",
       "      <td>1</td>\n",
       "      <td>!!!!!!! RT @UrKindOfBrand Dawg!!!! RT @80sbaby...</td>\n",
       "    </tr>\n",
       "    <tr>\n",
       "      <th>3</th>\n",
       "      <td>1</td>\n",
       "      <td>!!!!!!!!! RT @C_G_Anderson: @viva_based she lo...</td>\n",
       "    </tr>\n",
       "    <tr>\n",
       "      <th>4</th>\n",
       "      <td>1</td>\n",
       "      <td>!!!!!!!!!!!!! RT @ShenikaRoberts: The shit you...</td>\n",
       "    </tr>\n",
       "    <tr>\n",
       "      <th>5</th>\n",
       "      <td>1</td>\n",
       "      <td>!!!!!!!!!!!!!!!!!!\"@T_Madison_x: The shit just...</td>\n",
       "    </tr>\n",
       "    <tr>\n",
       "      <th>6</th>\n",
       "      <td>1</td>\n",
       "      <td>!!!!!!\"@__BrighterDays: I can not just sit up ...</td>\n",
       "    </tr>\n",
       "    <tr>\n",
       "      <th>7</th>\n",
       "      <td>1</td>\n",
       "      <td>!!!!&amp;#8220;@selfiequeenbri: cause I'm tired of...</td>\n",
       "    </tr>\n",
       "    <tr>\n",
       "      <th>8</th>\n",
       "      <td>1</td>\n",
       "      <td>\" &amp;amp; you might not get ya bitch back &amp;amp; ...</td>\n",
       "    </tr>\n",
       "    <tr>\n",
       "      <th>9</th>\n",
       "      <td>1</td>\n",
       "      <td>\" @rhythmixx_ :hobbies include: fighting Maria...</td>\n",
       "    </tr>\n",
       "  </tbody>\n",
       "</table>\n",
       "</div>"
      ],
      "text/plain": [
       "   class                                              tweet\n",
       "0      2  !!! RT @mayasolovely: As a woman you shouldn't...\n",
       "1      1  !!!!! RT @mleew17: boy dats cold...tyga dwn ba...\n",
       "2      1  !!!!!!! RT @UrKindOfBrand Dawg!!!! RT @80sbaby...\n",
       "3      1  !!!!!!!!! RT @C_G_Anderson: @viva_based she lo...\n",
       "4      1  !!!!!!!!!!!!! RT @ShenikaRoberts: The shit you...\n",
       "5      1  !!!!!!!!!!!!!!!!!!\"@T_Madison_x: The shit just...\n",
       "6      1  !!!!!!\"@__BrighterDays: I can not just sit up ...\n",
       "7      1  !!!!&#8220;@selfiequeenbri: cause I'm tired of...\n",
       "8      1  \" &amp; you might not get ya bitch back &amp; ...\n",
       "9      1  \" @rhythmixx_ :hobbies include: fighting Maria..."
      ]
     },
     "execution_count": 13,
     "metadata": {},
     "output_type": "execute_result"
    }
   ],
   "source": [
    "df_offensive.head(10)"
   ]
  },
  {
   "cell_type": "code",
   "execution_count": 14,
   "id": "a8d26bb9",
   "metadata": {},
   "outputs": [
    {
     "data": {
      "text/plain": [
       "array([2, 1, 0], dtype=int64)"
      ]
     },
     "execution_count": 14,
     "metadata": {},
     "output_type": "execute_result"
    }
   ],
   "source": [
    "df_offensive['class'].unique()"
   ]
  },
  {
   "cell_type": "code",
   "execution_count": 15,
   "id": "603c2138",
   "metadata": {},
   "outputs": [
    {
     "data": {
      "text/plain": [
       "<Axes: xlabel='class', ylabel='count'>"
      ]
     },
     "execution_count": 15,
     "metadata": {},
     "output_type": "execute_result"
    },
    {
     "data": {
      "image/png": "[encoded data removed]",
      "text/plain": [
       "<Figure size 640x480 with 1 Axes>"
      ]
     },
     "metadata": {},
     "output_type": "display_data"
    }
   ],
   "source": [
    "sns.countplot(x = 'class',data=df_offensive)"
   ]
  },
  {
   "cell_type": "code",
   "execution_count": 16,
   "id": "4dc866af",
   "metadata": {},
   "outputs": [],
   "source": [
    "df_offensive[df_offensive['class']==0]['class']=1"
   ]
  },
  {
   "cell_type": "code",
   "execution_count": 17,
   "id": "68e9038d",
   "metadata": {},
   "outputs": [
    {
     "data": {
      "text/html": [
       "<div>\n",
       "<style scoped>\n",
       "    .dataframe tbody tr th:only-of-type {\n",
       "        vertical-align: middle;\n",
       "    }\n",
       "\n",
       "    .dataframe tbody tr th {\n",
       "        vertical-align: top;\n",
       "    }\n",
       "\n",
       "    .dataframe thead th {\n",
       "        text-align: right;\n",
       "    }\n",
       "</style>\n",
       "<table border=\"1\" class=\"dataframe\">\n",
       "  <thead>\n",
       "    <tr style=\"text-align: right;\">\n",
       "      <th></th>\n",
       "      <th>class</th>\n",
       "      <th>tweet</th>\n",
       "    </tr>\n",
       "  </thead>\n",
       "  <tbody>\n",
       "    <tr>\n",
       "      <th>0</th>\n",
       "      <td>2</td>\n",
       "      <td>!!! RT @mayasolovely: As a woman you shouldn't...</td>\n",
       "    </tr>\n",
       "    <tr>\n",
       "      <th>1</th>\n",
       "      <td>1</td>\n",
       "      <td>!!!!! RT @mleew17: boy dats cold...tyga dwn ba...</td>\n",
       "    </tr>\n",
       "    <tr>\n",
       "      <th>2</th>\n",
       "      <td>1</td>\n",
       "      <td>!!!!!!! RT @UrKindOfBrand Dawg!!!! RT @80sbaby...</td>\n",
       "    </tr>\n",
       "    <tr>\n",
       "      <th>3</th>\n",
       "      <td>1</td>\n",
       "      <td>!!!!!!!!! RT @C_G_Anderson: @viva_based she lo...</td>\n",
       "    </tr>\n",
       "    <tr>\n",
       "      <th>4</th>\n",
       "      <td>1</td>\n",
       "      <td>!!!!!!!!!!!!! RT @ShenikaRoberts: The shit you...</td>\n",
       "    </tr>\n",
       "  </tbody>\n",
       "</table>\n",
       "</div>"
      ],
      "text/plain": [
       "   class                                              tweet\n",
       "0      2  !!! RT @mayasolovely: As a woman you shouldn't...\n",
       "1      1  !!!!! RT @mleew17: boy dats cold...tyga dwn ba...\n",
       "2      1  !!!!!!! RT @UrKindOfBrand Dawg!!!! RT @80sbaby...\n",
       "3      1  !!!!!!!!! RT @C_G_Anderson: @viva_based she lo...\n",
       "4      1  !!!!!!!!!!!!! RT @ShenikaRoberts: The shit you..."
      ]
     },
     "execution_count": 17,
     "metadata": {},
     "output_type": "execute_result"
    }
   ],
   "source": [
    "df_offensive.head(5)"
   ]
  },
  {
   "cell_type": "code",
   "execution_count": 18,
   "id": "98458333",
   "metadata": {},
   "outputs": [
    {
     "data": {
      "text/plain": [
       "array([2, 1, 0], dtype=int64)"
      ]
     },
     "execution_count": 18,
     "metadata": {},
     "output_type": "execute_result"
    }
   ],
   "source": [
    "df_offensive['class'].unique()"
   ]
  },
  {
   "cell_type": "code",
   "execution_count": 19,
   "id": "b6d85f8b",
   "metadata": {},
   "outputs": [
    {
     "data": {
      "text/html": [
       "<div>\n",
       "<style scoped>\n",
       "    .dataframe tbody tr th:only-of-type {\n",
       "        vertical-align: middle;\n",
       "    }\n",
       "\n",
       "    .dataframe tbody tr th {\n",
       "        vertical-align: top;\n",
       "    }\n",
       "\n",
       "    .dataframe thead th {\n",
       "        text-align: right;\n",
       "    }\n",
       "</style>\n",
       "<table border=\"1\" class=\"dataframe\">\n",
       "  <thead>\n",
       "    <tr style=\"text-align: right;\">\n",
       "      <th></th>\n",
       "      <th>class</th>\n",
       "      <th>tweet</th>\n",
       "    </tr>\n",
       "  </thead>\n",
       "  <tbody>\n",
       "    <tr>\n",
       "      <th>85</th>\n",
       "      <td>0</td>\n",
       "      <td>\"@Blackman38Tide: @WhaleLookyHere @HowdyDowdy1...</td>\n",
       "    </tr>\n",
       "    <tr>\n",
       "      <th>89</th>\n",
       "      <td>0</td>\n",
       "      <td>\"@CB_Baby24: @white_thunduh alsarabsss\" hes a ...</td>\n",
       "    </tr>\n",
       "    <tr>\n",
       "      <th>110</th>\n",
       "      <td>0</td>\n",
       "      <td>\"@DevilGrimz: @VigxRArts you're fucking gay, b...</td>\n",
       "    </tr>\n",
       "    <tr>\n",
       "      <th>184</th>\n",
       "      <td>0</td>\n",
       "      <td>\"@MarkRoundtreeJr: LMFAOOOO I HATE BLACK PEOPL...</td>\n",
       "    </tr>\n",
       "    <tr>\n",
       "      <th>202</th>\n",
       "      <td>0</td>\n",
       "      <td>\"@NoChillPaz: \"At least I'm not a nigger\" http...</td>\n",
       "    </tr>\n",
       "    <tr>\n",
       "      <th>...</th>\n",
       "      <td>...</td>\n",
       "      <td>...</td>\n",
       "    </tr>\n",
       "    <tr>\n",
       "      <th>24576</th>\n",
       "      <td>0</td>\n",
       "      <td>this guy is the biggest faggot omfg</td>\n",
       "    </tr>\n",
       "    <tr>\n",
       "      <th>24685</th>\n",
       "      <td>0</td>\n",
       "      <td>which one of these names is more offensive kik...</td>\n",
       "    </tr>\n",
       "    <tr>\n",
       "      <th>24751</th>\n",
       "      <td>0</td>\n",
       "      <td>you a pussy ass nigga and I know it nigga.</td>\n",
       "    </tr>\n",
       "    <tr>\n",
       "      <th>24776</th>\n",
       "      <td>0</td>\n",
       "      <td>you're all niggers</td>\n",
       "    </tr>\n",
       "    <tr>\n",
       "      <th>24777</th>\n",
       "      <td>0</td>\n",
       "      <td>you're such a retard i hope you get type 2 dia...</td>\n",
       "    </tr>\n",
       "  </tbody>\n",
       "</table>\n",
       "<p>1430 rows × 2 columns</p>\n",
       "</div>"
      ],
      "text/plain": [
       "       class                                              tweet\n",
       "85         0  \"@Blackman38Tide: @WhaleLookyHere @HowdyDowdy1...\n",
       "89         0  \"@CB_Baby24: @white_thunduh alsarabsss\" hes a ...\n",
       "110        0  \"@DevilGrimz: @VigxRArts you're fucking gay, b...\n",
       "184        0  \"@MarkRoundtreeJr: LMFAOOOO I HATE BLACK PEOPL...\n",
       "202        0  \"@NoChillPaz: \"At least I'm not a nigger\" http...\n",
       "...      ...                                                ...\n",
       "24576      0                this guy is the biggest faggot omfg\n",
       "24685      0  which one of these names is more offensive kik...\n",
       "24751      0         you a pussy ass nigga and I know it nigga.\n",
       "24776      0                                 you're all niggers\n",
       "24777      0  you're such a retard i hope you get type 2 dia...\n",
       "\n",
       "[1430 rows x 2 columns]"
      ]
     },
     "execution_count": 19,
     "metadata": {},
     "output_type": "execute_result"
    }
   ],
   "source": [
    "df_offensive[df_offensive['class']==0]"
   ]
  },
  {
   "cell_type": "code",
   "execution_count": 20,
   "id": "525abb56",
   "metadata": {},
   "outputs": [],
   "source": [
    "df_offensive[\"class\"].replace({0: 1}, inplace=True)"
   ]
  },
  {
   "cell_type": "code",
   "execution_count": 21,
   "id": "50622511",
   "metadata": {},
   "outputs": [
    {
     "data": {
      "text/plain": [
       "array([2, 1], dtype=int64)"
      ]
     },
     "execution_count": 21,
     "metadata": {},
     "output_type": "execute_result"
    }
   ],
   "source": [
    "df_offensive['class'].unique()"
   ]
  },
  {
   "cell_type": "code",
   "execution_count": 22,
   "id": "5a0323e6",
   "metadata": {},
   "outputs": [
    {
     "data": {
      "text/plain": [
       "<Axes: xlabel='class', ylabel='count'>"
      ]
     },
     "execution_count": 22,
     "metadata": {},
     "output_type": "execute_result"
    },
    {
     "data": {
      "image/png": "[encoded data removed]",
      "text/plain": [
       "<Figure size 640x480 with 1 Axes>"
      ]
     },
     "metadata": {},
     "output_type": "display_data"
    }
   ],
   "source": [
    "sns.countplot(x= 'class',data=df_offensive)"
   ]
  },
  {
   "cell_type": "code",
   "execution_count": 23,
   "id": "e3621d2d",
   "metadata": {},
   "outputs": [
    {
     "data": {
      "text/html": [
       "<div>\n",
       "<style scoped>\n",
       "    .dataframe tbody tr th:only-of-type {\n",
       "        vertical-align: middle;\n",
       "    }\n",
       "\n",
       "    .dataframe tbody tr th {\n",
       "        vertical-align: top;\n",
       "    }\n",
       "\n",
       "    .dataframe thead th {\n",
       "        text-align: right;\n",
       "    }\n",
       "</style>\n",
       "<table border=\"1\" class=\"dataframe\">\n",
       "  <thead>\n",
       "    <tr style=\"text-align: right;\">\n",
       "      <th></th>\n",
       "      <th>class</th>\n",
       "      <th>tweet</th>\n",
       "    </tr>\n",
       "  </thead>\n",
       "  <tbody>\n",
       "  </tbody>\n",
       "</table>\n",
       "</div>"
      ],
      "text/plain": [
       "Empty DataFrame\n",
       "Columns: [class, tweet]\n",
       "Index: []"
      ]
     },
     "execution_count": 23,
     "metadata": {},
     "output_type": "execute_result"
    }
   ],
   "source": [
    "df_offensive[df_offensive['class']==0]"
   ]
  },
  {
   "cell_type": "code",
   "execution_count": 24,
   "id": "af6a764e",
   "metadata": {},
   "outputs": [],
   "source": [
    "df_offensive[\"class\"].replace({2: 0}, inplace=True)"
   ]
  },
  {
   "cell_type": "code",
   "execution_count": 25,
   "id": "fe1253da",
   "metadata": {},
   "outputs": [
    {
     "data": {
      "text/plain": [
       "<Axes: xlabel='class', ylabel='count'>"
      ]
     },
     "execution_count": 25,
     "metadata": {},
     "output_type": "execute_result"
    },
    {
     "data": {
      "image/png": "[encoded data removed]",
      "text/plain": [
       "<Figure size 640x480 with 1 Axes>"
      ]
     },
     "metadata": {},
     "output_type": "display_data"
    }
   ],
   "source": [
    "sns.countplot(x ='class',data=df_offensive)"
   ]
  },
  {
   "cell_type": "code",
   "execution_count": 26,
   "id": "8085e59f",
   "metadata": {},
   "outputs": [
    {
     "data": {
      "text/plain": [
       "\"!!! RT @mayasolovely: As a woman you shouldn't complain about cleaning up your house. &amp; as a man you should always take the trash out...\""
      ]
     },
     "execution_count": 26,
     "metadata": {},
     "output_type": "execute_result"
    }
   ],
   "source": [
    "# df_offensive.rename(columns ={'class':'label'}, inplace = True)df_offensive.iloc[0]['tweet']\n",
    "df_offensive.rename(columns={'class': 'label'}, inplace=True)\n",
    "df_offensive.iloc[0]['tweet']"
   ]
  },
  {
   "cell_type": "code",
   "execution_count": 27,
   "id": "c65d0f29",
   "metadata": {},
   "outputs": [
    {
     "data": {
      "text/html": [
       "<div>\n",
       "<style scoped>\n",
       "    .dataframe tbody tr th:only-of-type {\n",
       "        vertical-align: middle;\n",
       "    }\n",
       "\n",
       "    .dataframe tbody tr th {\n",
       "        vertical-align: top;\n",
       "    }\n",
       "\n",
       "    .dataframe thead th {\n",
       "        text-align: right;\n",
       "    }\n",
       "</style>\n",
       "<table border=\"1\" class=\"dataframe\">\n",
       "  <thead>\n",
       "    <tr style=\"text-align: right;\">\n",
       "      <th></th>\n",
       "      <th>label</th>\n",
       "      <th>tweet</th>\n",
       "    </tr>\n",
       "  </thead>\n",
       "  <tbody>\n",
       "    <tr>\n",
       "      <th>0</th>\n",
       "      <td>0</td>\n",
       "      <td>!!! RT @mayasolovely: As a woman you shouldn't...</td>\n",
       "    </tr>\n",
       "    <tr>\n",
       "      <th>1</th>\n",
       "      <td>1</td>\n",
       "      <td>!!!!! RT @mleew17: boy dats cold...tyga dwn ba...</td>\n",
       "    </tr>\n",
       "    <tr>\n",
       "      <th>2</th>\n",
       "      <td>1</td>\n",
       "      <td>!!!!!!! RT @UrKindOfBrand Dawg!!!! RT @80sbaby...</td>\n",
       "    </tr>\n",
       "    <tr>\n",
       "      <th>3</th>\n",
       "      <td>1</td>\n",
       "      <td>!!!!!!!!! RT @C_G_Anderson: @viva_based she lo...</td>\n",
       "    </tr>\n",
       "    <tr>\n",
       "      <th>4</th>\n",
       "      <td>1</td>\n",
       "      <td>!!!!!!!!!!!!! RT @ShenikaRoberts: The shit you...</td>\n",
       "    </tr>\n",
       "  </tbody>\n",
       "</table>\n",
       "</div>"
      ],
      "text/plain": [
       "   label                                              tweet\n",
       "0      0  !!! RT @mayasolovely: As a woman you shouldn't...\n",
       "1      1  !!!!! RT @mleew17: boy dats cold...tyga dwn ba...\n",
       "2      1  !!!!!!! RT @UrKindOfBrand Dawg!!!! RT @80sbaby...\n",
       "3      1  !!!!!!!!! RT @C_G_Anderson: @viva_based she lo...\n",
       "4      1  !!!!!!!!!!!!! RT @ShenikaRoberts: The shit you..."
      ]
     },
     "execution_count": 27,
     "metadata": {},
     "output_type": "execute_result"
    }
   ],
   "source": [
    "df_offensive.head()"
   ]
  },
  {
   "cell_type": "code",
   "execution_count": 28,
   "id": "bf095e76",
   "metadata": {},
   "outputs": [
    {
     "data": {
      "text/plain": [
       "\"!!! RT @mayasolovely: As a woman you shouldn't complain about cleaning up your house. &amp; as a man you should always take the trash out...\""
      ]
     },
     "execution_count": 28,
     "metadata": {},
     "output_type": "execute_result"
    }
   ],
   "source": [
    "df_offensive.iloc[0]['tweet']"
   ]
  },
  {
   "cell_type": "code",
   "execution_count": 29,
   "id": "1c1ff280",
   "metadata": {},
   "outputs": [
    {
     "data": {
      "text/plain": [
       "'!!!!!!!!!!!!!!!!!!\"@T_Madison_x: The shit just blows me..claim you so faithful and down for somebody but still fucking with hoes! &#128514;&#128514;&#128514;\"'"
      ]
     },
     "execution_count": 29,
     "metadata": {},
     "output_type": "execute_result"
    }
   ],
   "source": [
    "df_offensive.iloc[5]['tweet']"
   ]
  },
  {
   "cell_type": "code",
   "execution_count": 30,
   "id": "e5a18f66",
   "metadata": {},
   "outputs": [],
   "source": [
    "frame=[df_twitter,df_offensive]\n",
    "df = pd.concat(frame)"
   ]
  },
  {
   "cell_type": "code",
   "execution_count": 31,
   "id": "5b53eeb8",
   "metadata": {},
   "outputs": [
    {
     "data": {
      "text/html": [
       "<div>\n",
       "<style scoped>\n",
       "    .dataframe tbody tr th:only-of-type {\n",
       "        vertical-align: middle;\n",
       "    }\n",
       "\n",
       "    .dataframe tbody tr th {\n",
       "        vertical-align: top;\n",
       "    }\n",
       "\n",
       "    .dataframe thead th {\n",
       "        text-align: right;\n",
       "    }\n",
       "</style>\n",
       "<table border=\"1\" class=\"dataframe\">\n",
       "  <thead>\n",
       "    <tr style=\"text-align: right;\">\n",
       "      <th></th>\n",
       "      <th>label</th>\n",
       "      <th>tweet</th>\n",
       "    </tr>\n",
       "  </thead>\n",
       "  <tbody>\n",
       "    <tr>\n",
       "      <th>0</th>\n",
       "      <td>0</td>\n",
       "      <td>@user when a father is dysfunctional and is s...</td>\n",
       "    </tr>\n",
       "    <tr>\n",
       "      <th>1</th>\n",
       "      <td>0</td>\n",
       "      <td>@user @user thanks for #lyft credit i can't us...</td>\n",
       "    </tr>\n",
       "    <tr>\n",
       "      <th>2</th>\n",
       "      <td>0</td>\n",
       "      <td>bihday your majesty</td>\n",
       "    </tr>\n",
       "    <tr>\n",
       "      <th>3</th>\n",
       "      <td>0</td>\n",
       "      <td>#model   i love u take with u all the time in ...</td>\n",
       "    </tr>\n",
       "    <tr>\n",
       "      <th>4</th>\n",
       "      <td>0</td>\n",
       "      <td>factsguide: society now    #motivation</td>\n",
       "    </tr>\n",
       "  </tbody>\n",
       "</table>\n",
       "</div>"
      ],
      "text/plain": [
       "   label                                              tweet\n",
       "0      0   @user when a father is dysfunctional and is s...\n",
       "1      0  @user @user thanks for #lyft credit i can't us...\n",
       "2      0                                bihday your majesty\n",
       "3      0  #model   i love u take with u all the time in ...\n",
       "4      0             factsguide: society now    #motivation"
      ]
     },
     "execution_count": 31,
     "metadata": {},
     "output_type": "execute_result"
    }
   ],
   "source": [
    "df.head()"
   ]
  },
  {
   "cell_type": "code",
   "execution_count": 32,
   "id": "337fe3af",
   "metadata": {},
   "outputs": [
    {
     "data": {
      "text/plain": [
       "<Axes: xlabel='label', ylabel='count'>"
      ]
     },
     "execution_count": 32,
     "metadata": {},
     "output_type": "execute_result"
    },
    {
     "data": {
      "image/png": "[encoded data removed]",
      "text/plain": [
       "<Figure size 640x480 with 1 Axes>"
      ]
     },
     "metadata": {},
     "output_type": "display_data"
    }
   ],
   "source": [
    "sns.countplot(x = 'label',data=df)"
   ]
  },
  {
   "cell_type": "code",
   "execution_count": 33,
   "id": "a3de255c",
   "metadata": {},
   "outputs": [
    {
     "data": {
      "text/plain": [
       "(56745, 2)"
      ]
     },
     "execution_count": 33,
     "metadata": {},
     "output_type": "execute_result"
    }
   ],
   "source": [
    "df.shape"
   ]
  },
  {
   "cell_type": "code",
   "execution_count": 34,
   "id": "10132581",
   "metadata": {},
   "outputs": [],
   "source": [
    "df1 = df.iloc[:3000, :2]  "
   ]
  },
  {
   "cell_type": "code",
   "execution_count": 35,
   "id": "97da25a9",
   "metadata": {},
   "outputs": [
    {
     "data": {
      "text/plain": [
       "(3000, 2)"
      ]
     },
     "execution_count": 35,
     "metadata": {},
     "output_type": "execute_result"
    }
   ],
   "source": [
    "df1.shape"
   ]
  },
  {
   "cell_type": "code",
   "execution_count": 36,
   "id": "ab792fb9",
   "metadata": {},
   "outputs": [],
   "source": [
    "import re\n",
    "import nltk\n",
    "stemmer = nltk.SnowballStemmer(\"english\")\n",
    "from nltk.corpus import stopwords\n",
    "import string\n",
    "stopword=set(stopwords.words('english'))"
   ]
  },
  {
   "cell_type": "code",
   "execution_count": 37,
   "id": "e59b6d3a",
   "metadata": {},
   "outputs": [],
   "source": [
    "def clean_text(text):\n",
    "    text = str(text).lower()\n",
    "    text = re.sub('\\[.*?\\]', '', text)\n",
    "    text = re.sub('https?://\\S+|www\\.\\S+', '', text)\n",
    "    text = re.sub('<.*?>+', '', text)\n",
    "    text = re.sub('[%s]' % re.escape(string.punctuation), '', text)\n",
    "    text = re.sub('\\n', '', text)\n",
    "    text = re.sub('\\w*\\d\\w*', '', text)\n",
    "    text = [word for word in text.split(' ') if word not in stopword]\n",
    "    text=\" \".join(text)\n",
    "    text = [stemmer.stem(word) for word in text.split(' ')]\n",
    "    text=\" \".join(text)\n",
    "    return text"
   ]
  },
  {
   "cell_type": "code",
   "execution_count": 38,
   "id": "a7b06e81",
   "metadata": {},
   "outputs": [],
   "source": [
    "df1['tweet']=df1['tweet'].apply(clean_text)"
   ]
  },
  {
   "cell_type": "code",
   "execution_count": 39,
   "id": "402cc176",
   "metadata": {},
   "outputs": [
    {
     "data": {
      "text/html": [
       "<div>\n",
       "<style scoped>\n",
       "    .dataframe tbody tr th:only-of-type {\n",
       "        vertical-align: middle;\n",
       "    }\n",
       "\n",
       "    .dataframe tbody tr th {\n",
       "        vertical-align: top;\n",
       "    }\n",
       "\n",
       "    .dataframe thead th {\n",
       "        text-align: right;\n",
       "    }\n",
       "</style>\n",
       "<table border=\"1\" class=\"dataframe\">\n",
       "  <thead>\n",
       "    <tr style=\"text-align: right;\">\n",
       "      <th></th>\n",
       "      <th>label</th>\n",
       "      <th>tweet</th>\n",
       "    </tr>\n",
       "  </thead>\n",
       "  <tbody>\n",
       "    <tr>\n",
       "      <th>0</th>\n",
       "      <td>0</td>\n",
       "      <td>@user when a father is dysfunctional and is s...</td>\n",
       "    </tr>\n",
       "    <tr>\n",
       "      <th>1</th>\n",
       "      <td>0</td>\n",
       "      <td>@user @user thanks for #lyft credit i can't us...</td>\n",
       "    </tr>\n",
       "    <tr>\n",
       "      <th>2</th>\n",
       "      <td>0</td>\n",
       "      <td>bihday your majesty</td>\n",
       "    </tr>\n",
       "    <tr>\n",
       "      <th>3</th>\n",
       "      <td>0</td>\n",
       "      <td>#model   i love u take with u all the time in ...</td>\n",
       "    </tr>\n",
       "    <tr>\n",
       "      <th>4</th>\n",
       "      <td>0</td>\n",
       "      <td>factsguide: society now    #motivation</td>\n",
       "    </tr>\n",
       "  </tbody>\n",
       "</table>\n",
       "</div>"
      ],
      "text/plain": [
       "   label                                              tweet\n",
       "0      0   @user when a father is dysfunctional and is s...\n",
       "1      0  @user @user thanks for #lyft credit i can't us...\n",
       "2      0                                bihday your majesty\n",
       "3      0  #model   i love u take with u all the time in ...\n",
       "4      0             factsguide: society now    #motivation"
      ]
     },
     "execution_count": 39,
     "metadata": {},
     "output_type": "execute_result"
    }
   ],
   "source": [
    "df.head()"
   ]
  },
  {
   "cell_type": "code",
   "execution_count": 40,
   "id": "29493802",
   "metadata": {},
   "outputs": [],
   "source": [
    "from wordcloud import WordCloud, STOPWORDS\n",
    "import matplotlib.pyplot as plt\n",
    "import pandas as pd"
   ]
  },
  {
   "cell_type": "code",
   "execution_count": 41,
   "id": "14fc46b5",
   "metadata": {},
   "outputs": [],
   "source": [
    "def make_wordcloud(df):\n",
    "    comment_words=\"\"\n",
    "    for val in df.tweet: \n",
    "        val = str(val).lower()\n",
    "\n",
    "      \n",
    "        comment_words += \" \".join(val)+\" \"\n",
    "    print(comment_words[0:100])\n",
    "    wordcloud = WordCloud(width = 800, height = 800,\n",
    "                background_color ='white',\n",
    "                stopwords = stopwords,min_font_size = 10).generate(comment_words)\n",
    "  \n",
    "    plt.figure(figsize = (8, 8), facecolor = None)\n",
    "    plt.imshow(wordcloud)\n",
    "    plt.axis(\"off\")\n",
    "    plt.tight_layout(pad = 0)\n",
    "\n",
    "    plt.show()"
   ]
  },
  {
   "cell_type": "code",
   "execution_count": 47,
   "id": "af110113",
   "metadata": {},
   "outputs": [],
   "source": [
    "x=df1['tweet']\n",
    "y=df1['label']"
   ]
  },
  {
   "cell_type": "code",
   "execution_count": 48,
   "id": "6d68e887",
   "metadata": {},
   "outputs": [
    {
     "name": "stdout",
     "output_type": "stream",
     "text": [
      "2250 2250\n",
      "750 750\n"
     ]
    }
   ],
   "source": [
    "from sklearn.model_selection import train_test_split\n",
    "\n",
    "x_train, x_test, y_train, y_test = train_test_split(x, y, random_state=42)\n",
    "print(len(x_train), len(y_train))\n",
    "print(len(x_test), len(y_test))"
   ]
  },
  {
   "cell_type": "code",
   "execution_count": 49,
   "id": "45308973",
   "metadata": {},
   "outputs": [],
   "source": [
    "from sklearn.feature_extraction.text import CountVectorizer\n",
    "\n",
    "count = CountVectorizer(stop_words='english', ngram_range=(1,5))\n",
    "x_train_vectorizer=count.fit_transform(x_train)"
   ]
  },
  {
   "cell_type": "code",
   "execution_count": 50,
   "id": "3a6078f2",
   "metadata": {},
   "outputs": [
    {
     "data": {
      "text/plain": [
       "array([[0, 0, 0, ..., 0, 0, 0],\n",
       "       [0, 0, 0, ..., 0, 0, 0],\n",
       "       [0, 0, 0, ..., 0, 0, 0],\n",
       "       ...,\n",
       "       [0, 0, 0, ..., 0, 0, 0],\n",
       "       [0, 0, 0, ..., 0, 0, 0],\n",
       "       [0, 0, 0, ..., 0, 0, 0]], dtype=int64)"
      ]
     },
     "execution_count": 50,
     "metadata": {},
     "output_type": "execute_result"
    }
   ],
   "source": [
    "x_test_vectorizer=count.transform(x_test)\n",
    "x_train_vectorizer.toarray()"
   ]
  },
  {
   "cell_type": "code",
   "execution_count": 51,
   "id": "93c046fa",
   "metadata": {},
   "outputs": [
    {
     "data": {
      "text/plain": [
       "{'dad': 8572,\n",
       " 'son': 37494,\n",
       " 'hero': 18883,\n",
       " 'daughter': 8908,\n",
       " 'love': 24567,\n",
       " 'putyourdadinaband': 32805,\n",
       " 'day': 8946,\n",
       " 'dad son': 8630,\n",
       " 'son hero': 37500,\n",
       " 'hero daughter': 18884,\n",
       " 'daughter love': 8916,\n",
       " 'love putyourdadinaband': 24915,\n",
       " 'putyourdadinaband day': 32806,\n",
       " 'day dad': 9037,\n",
       " 'dad son hero': 8631,\n",
       " 'son hero daughter': 37501,\n",
       " 'hero daughter love': 18885,\n",
       " 'daughter love putyourdadinaband': 8917,\n",
       " 'love putyourdadinaband day': 24916,\n",
       " 'putyourdadinaband day dad': 32807,\n",
       " 'dad son hero daughter': 8632,\n",
       " 'son hero daughter love': 37502,\n",
       " 'hero daughter love putyourdadinaband': 18886,\n",
       " 'daughter love putyourdadinaband day': 8918,\n",
       " 'love putyourdadinaband day dad': 24917,\n",
       " 'dad son hero daughter love': 8633,\n",
       " 'son hero daughter love putyourdadinaband': 37503,\n",
       " 'hero daughter love putyourdadinaband day': 18887,\n",
       " 'daughter love putyourdadinaband day dad': 8919,\n",
       " 'aaahhhhh': 10,\n",
       " 'day aaahhhhh': 8947,\n",
       " 'dog': 10429,\n",
       " 'bath': 2982,\n",
       " 'flea': 14227,\n",
       " 'free': 14783,\n",
       " 'new': 28219,\n",
       " 'bed': 3337,\n",
       " 'spray': 37921,\n",
       " 'mommyduti': 27037,\n",
       " 'furbabi': 15466,\n",
       " 'kimberâ': 22133,\n",
       " 'dog bath': 10434,\n",
       " 'bath flea': 2983,\n",
       " 'flea free': 14228,\n",
       " 'free new': 14811,\n",
       " 'new bed': 28243,\n",
       " 'bed spray': 3352,\n",
       " 'spray mommyduti': 37925,\n",
       " 'mommyduti furbabi': 27041,\n",
       " 'furbabi kimberâ': 15470,\n",
       " 'dog bath flea': 10435,\n",
       " 'bath flea free': 2984,\n",
       " 'flea free new': 14229,\n",
       " 'free new bed': 14812,\n",
       " 'new bed spray': 28244,\n",
       " 'bed spray mommyduti': 3353,\n",
       " 'spray mommyduti furbabi': 37926,\n",
       " 'mommyduti furbabi kimberâ': 27042,\n",
       " 'dog bath flea free': 10436,\n",
       " 'bath flea free new': 2985,\n",
       " 'flea free new bed': 14230,\n",
       " 'free new bed spray': 14813,\n",
       " 'new bed spray mommyduti': 28245,\n",
       " 'bed spray mommyduti furbabi': 3354,\n",
       " 'spray mommyduti furbabi kimberâ': 37927,\n",
       " 'dog bath flea free new': 10437,\n",
       " 'bath flea free new bed': 2986,\n",
       " 'flea free new bed spray': 14231,\n",
       " 'free new bed spray mommyduti': 14814,\n",
       " 'new bed spray mommyduti furbabi': 28246,\n",
       " 'bed spray mommyduti furbabi kimberâ': 3355,\n",
       " 'user': 43137,\n",
       " 'thank': 40242,\n",
       " 'lifeâ': 23524,\n",
       " 'challeng': 6175,\n",
       " 'posit': 31842,\n",
       " 'user thank': 45277,\n",
       " 'thank lifeâ': 40328,\n",
       " 'lifeâ challeng': 23525,\n",
       " 'challeng thank': 6180,\n",
       " 'thank posit': 40382,\n",
       " 'user thank lifeâ': 45281,\n",
       " 'thank lifeâ challeng': 40329,\n",
       " 'lifeâ challeng thank': 23526,\n",
       " 'challeng thank posit': 6181,\n",
       " 'user thank lifeâ challeng': 45282,\n",
       " 'thank lifeâ challeng thank': 40330,\n",
       " 'lifeâ challeng thank posit': 23527,\n",
       " 'user thank lifeâ challeng thank': 45283,\n",
       " 'thank lifeâ challeng thank posit': 40331,\n",
       " 'friend': 15034,\n",
       " 'magic': 25378,\n",
       " 'potion': 31961,\n",
       " 'ewabeach': 12354,\n",
       " 'magicalhappydrink': 25396,\n",
       " 'ewa': 12351,\n",
       " 'beach': 3085,\n",
       " 'hous': 19664,\n",
       " 'friend magic': 15086,\n",
       " 'magic potion': 25388,\n",
       " 'potion ewabeach': 31962,\n",
       " 'ewabeach magicalhappydrink': 12355,\n",
       " 'magicalhappydrink ewa': 25397,\n",
       " 'ewa beach': 12352,\n",
       " 'beach hous': 3102,\n",
       " 'friend magic potion': 15087,\n",
       " 'magic potion ewabeach': 25389,\n",
       " 'potion ewabeach magicalhappydrink': 31963,\n",
       " 'ewabeach magicalhappydrink ewa': 12356,\n",
       " 'magicalhappydrink ewa beach': 25398,\n",
       " 'ewa beach hous': 12353,\n",
       " 'friend magic potion ewabeach': 15088,\n",
       " 'magic potion ewabeach magicalhappydrink': 25390,\n",
       " 'potion ewabeach magicalhappydrink ewa': 31964,\n",
       " 'ewabeach magicalhappydrink ewa beach': 12357,\n",
       " 'magicalhappydrink ewa beach hous': 25399,\n",
       " 'friend magic potion ewabeach magicalhappydrink': 15089,\n",
       " 'magic potion ewabeach magicalhappydrink ewa': 25391,\n",
       " 'potion ewabeach magicalhappydrink ewa beach': 31965,\n",
       " 'ewabeach magicalhappydrink ewa beach hous': 12358,\n",
       " 'wait': 46669,\n",
       " 'dorið': 10842,\n",
       " 'wait dorið': 46688,\n",
       " 'happi': 17555,\n",
       " 'work': 48545,\n",
       " 'confer': 7488,\n",
       " 'right': 34400,\n",
       " 'mindset': 26743,\n",
       " 'lead': 22779,\n",
       " 'cultureofdevelop': 8348,\n",
       " 'organ': 29765,\n",
       " 'happi work': 18042,\n",
       " 'work confer': 48561,\n",
       " 'confer right': 7503,\n",
       " 'right mindset': 34452,\n",
       " 'mindset lead': 26744,\n",
       " 'lead cultureofdevelop': 22788,\n",
       " 'cultureofdevelop organ': 8349,\n",
       " 'organ work': 29781,\n",
       " 'work mindset': 48596,\n",
       " 'happi work confer': 18043,\n",
       " 'work confer right': 48562,\n",
       " 'confer right mindset': 7504,\n",
       " 'right mindset lead': 34453,\n",
       " 'mindset lead cultureofdevelop': 26745,\n",
       " 'lead cultureofdevelop organ': 22789,\n",
       " 'cultureofdevelop organ work': 8350,\n",
       " 'organ work mindset': 29782,\n",
       " 'happi work confer right': 18044,\n",
       " 'work confer right mindset': 48563,\n",
       " 'confer right mindset lead': 7505,\n",
       " 'right mindset lead cultureofdevelop': 34454,\n",
       " 'mindset lead cultureofdevelop organ': 26746,\n",
       " 'lead cultureofdevelop organ work': 22790,\n",
       " 'cultureofdevelop organ work mindset': 8351,\n",
       " 'happi work confer right mindset': 18045,\n",
       " 'work confer right mindset lead': 48564,\n",
       " 'confer right mindset lead cultureofdevelop': 7506,\n",
       " 'right mindset lead cultureofdevelop organ': 34455,\n",
       " 'mindset lead cultureofdevelop organ work': 26747,\n",
       " 'lead cultureofdevelop organ work mindset': 22791,\n",
       " 'excit': 12378,\n",
       " 'cuain': 8306,\n",
       " 'tonight': 41677,\n",
       " 'look': 24295,\n",
       " 'forward': 14681,\n",
       " 'broadwayâ': 5207,\n",
       " 'user excit': 43795,\n",
       " 'excit cuain': 12389,\n",
       " 'cuain tonight': 8307,\n",
       " 'tonight look': 41706,\n",
       " 'look forward': 24321,\n",
       " 'forward user': 14710,\n",
       " 'user broadwayâ': 43443,\n",
       " 'user excit cuain': 43796,\n",
       " 'excit cuain tonight': 12390,\n",
       " 'cuain tonight look': 8308,\n",
       " 'tonight look forward': 41708,\n",
       " 'look forward user': 24344,\n",
       " 'forward user broadwayâ': 14711,\n",
       " 'user excit cuain tonight': 43797,\n",
       " 'excit cuain tonight look': 12391,\n",
       " 'cuain tonight look forward': 8309,\n",
       " 'tonight look forward user': 41709,\n",
       " 'look forward user broadwayâ': 24345,\n",
       " 'user excit cuain tonight look': 43798,\n",
       " 'excit cuain tonight look forward': 12392,\n",
       " 'cuain tonight look forward user': 8310,\n",
       " 'tonight look forward user broadwayâ': 41710,\n",
       " 'instagram': 20936,\n",
       " 'come': 7182,\n",
       " 'join': 21604,\n",
       " 'myhappycaptur': 27765,\n",
       " 'blogger': 4536,\n",
       " 'instagram come': 20943,\n",
       " 'come join': 7235,\n",
       " 'join myhappycaptur': 21608,\n",
       " 'myhappycaptur blogger': 27766,\n",
       " 'instagram come join': 20944,\n",
       " 'come join myhappycaptur': 7236,\n",
       " 'join myhappycaptur blogger': 21609,\n",
       " 'instagram come join myhappycaptur': 20945,\n",
       " 'come join myhappycaptur blogger': 7237,\n",
       " 'instagram come join myhappycaptur blogger': 20946,\n",
       " 'miss': 26808,\n",
       " 'play': 31363,\n",
       " 'xbox': 48963,\n",
       " 'miss day': 26820,\n",
       " 'day friend': 9107,\n",
       " 'friend play': 15096,\n",
       " 'play xbox': 31457,\n",
       " 'miss day friend': 26821,\n",
       " 'day friend play': 9109,\n",
       " 'friend play xbox': 15097,\n",
       " 'miss day friend play': 26822,\n",
       " 'day friend play xbox': 9110,\n",
       " 'miss day friend play xbox': 26823,\n",
       " 'lover': 25115,\n",
       " 'stop': 38424,\n",
       " 'angri': 1542,\n",
       " 'visit': 46490,\n",
       " 'usgtgtgt': 46064,\n",
       " 'astrolog': 2298,\n",
       " 'lover stop': 25127,\n",
       " 'stop angri': 38425,\n",
       " 'angri visit': 1578,\n",
       " 'visit usgtgtgt': 46514,\n",
       " 'usgtgtgt lover': 46065,\n",
       " 'lover friend': 25120,\n",
       " 'friend astrolog': 15039,\n",
       " 'astrolog love': 2299,\n",
       " 'lover stop angri': 25128,\n",
       " 'stop angri visit': 38426,\n",
       " 'angri visit usgtgtgt': 1579,\n",
       " 'visit usgtgtgt lover': 46515,\n",
       " 'usgtgtgt lover friend': 46066,\n",
       " 'lover friend astrolog': 25121,\n",
       " 'friend astrolog love': 15040,\n",
       " 'lover stop angri visit': 25129,\n",
       " 'stop angri visit usgtgtgt': 38427,\n",
       " 'angri visit usgtgtgt lover': 1580,\n",
       " 'visit usgtgtgt lover friend': 46516,\n",
       " 'usgtgtgt lover friend astrolog': 46067,\n",
       " 'lover friend astrolog love': 25122,\n",
       " 'lover stop angri visit usgtgtgt': 25130,\n",
       " 'stop angri visit usgtgtgt lover': 38428,\n",
       " 'angri visit usgtgtgt lover friend': 1581,\n",
       " 'visit usgtgtgt lover friend astrolog': 46517,\n",
       " 'usgtgtgt lover friend astrolog love': 46068,\n",
       " 'thread': 40883,\n",
       " 'gold': 16304,\n",
       " 'im': 20239,\n",
       " 'singl': 36717,\n",
       " 'thread gold': 40884,\n",
       " 'gold im': 16315,\n",
       " 'im im': 20368,\n",
       " 'im singl': 20458,\n",
       " 'thread gold im': 40885,\n",
       " 'gold im im': 16316,\n",
       " 'im im singl': 20369,\n",
       " 'thread gold im im': 40886,\n",
       " 'gold im im singl': 16317,\n",
       " 'thread gold im im singl': 40887,\n",
       " 'fathersday': 13369,\n",
       " 'gift': 15884,\n",
       " 'secur': 35752,\n",
       " 'financi': 14034,\n",
       " 'futur': 15488,\n",
       " 'save': 35317,\n",
       " 'insur': 21035,\n",
       " 'invest': 21102,\n",
       " 'fathersday gift': 13400,\n",
       " 'gift dad': 15894,\n",
       " 'dad secur': 8622,\n",
       " 'secur financi': 35753,\n",
       " 'financi futur': 14035,\n",
       " 'futur save': 15498,\n",
       " 'save insur': 35322,\n",
       " 'insur invest': 21036,\n",
       " 'fathersday gift dad': 13401,\n",
       " 'gift dad secur': 15895,\n",
       " 'dad secur financi': 8623,\n",
       " 'secur financi futur': 35754,\n",
       " 'financi futur save': 14036,\n",
       " 'futur save insur': 15499,\n",
       " 'save insur invest': 35323,\n",
       " 'fathersday gift dad secur': 13402,\n",
       " 'gift dad secur financi': 15896,\n",
       " 'dad secur financi futur': 8624,\n",
       " 'secur financi futur save': 35755,\n",
       " 'financi futur save insur': 14037,\n",
       " 'futur save insur invest': 15500,\n",
       " 'fathersday gift dad secur financi': 13403,\n",
       " 'gift dad secur financi futur': 15897,\n",
       " 'dad secur financi futur save': 8625,\n",
       " 'secur financi futur save insur': 35756,\n",
       " 'financi futur save insur invest': 14038,\n",
       " 'realiz': 33531,\n",
       " 'today': 41267,\n",
       " 'adult': 308,\n",
       " 'sinc': 36657,\n",
       " 'held': 18711,\n",
       " 'pinata': 31186,\n",
       " 'string': 38622,\n",
       " 'didnt': 10064,\n",
       " 'hit': 19093,\n",
       " 'imnotold': 20549,\n",
       " 'letmehitit': 23130,\n",
       " 'ayyyi': 2591,\n",
       " 'jk': 21524,\n",
       " 'realiz today': 33535,\n",
       " 'today im': 41385,\n",
       " 'im adult': 20241,\n",
       " 'adult sinc': 313,\n",
       " 'sinc held': 36662,\n",
       " 'held pinata': 18715,\n",
       " 'pinata string': 31187,\n",
       " 'string didnt': 38623,\n",
       " 'didnt hit': 10083,\n",
       " 'hit imnotold': 19103,\n",
       " 'imnotold letmehitit': 20550,\n",
       " 'letmehitit ayyyi': 23131,\n",
       " 'ayyyi jk': 2592,\n",
       " 'realiz today im': 33536,\n",
       " 'today im adult': 41386,\n",
       " 'im adult sinc': 20242,\n",
       " 'adult sinc held': 314,\n",
       " 'sinc held pinata': 36663,\n",
       " 'held pinata string': 18716,\n",
       " 'pinata string didnt': 31188,\n",
       " 'string didnt hit': 38624,\n",
       " 'didnt hit imnotold': 10084,\n",
       " 'hit imnotold letmehitit': 19104,\n",
       " 'imnotold letmehitit ayyyi': 20551,\n",
       " 'letmehitit ayyyi jk': 23132,\n",
       " 'realiz today im adult': 33537,\n",
       " 'today im adult sinc': 41387,\n",
       " 'im adult sinc held': 20243,\n",
       " 'adult sinc held pinata': 315,\n",
       " 'sinc held pinata string': 36664,\n",
       " 'held pinata string didnt': 18717,\n",
       " 'pinata string didnt hit': 31189,\n",
       " 'string didnt hit imnotold': 38625,\n",
       " 'didnt hit imnotold letmehitit': 10085,\n",
       " 'hit imnotold letmehitit ayyyi': 19105,\n",
       " 'imnotold letmehitit ayyyi jk': 20552,\n",
       " 'realiz today im adult sinc': 33538,\n",
       " 'today im adult sinc held': 41388,\n",
       " 'im adult sinc held pinata': 20244,\n",
       " 'adult sinc held pinata string': 316,\n",
       " 'sinc held pinata string didnt': 36665,\n",
       " 'held pinata string didnt hit': 18718,\n",
       " 'pinata string didnt hit imnotold': 31190,\n",
       " 'string didnt hit imnotold letmehitit': 38626,\n",
       " 'didnt hit imnotold letmehitit ayyyi': 10086,\n",
       " 'hit imnotold letmehitit ayyyi jk': 19106,\n",
       " 'bihday': 3929,\n",
       " 'ragul': 33097,\n",
       " 'ji': 21513,\n",
       " 'bihday ragul': 4060,\n",
       " 'ragul ji': 33098,\n",
       " 'bihday ragul ji': 4061,\n",
       " 'great': 16877,\n",
       " 'thing': 40601,\n",
       " 'came': 5643,\n",
       " 'comfo': 7304,\n",
       " 'zone': 49524,\n",
       " 'goodtogreat': 16584,\n",
       " 'inspirem': 20888,\n",
       " 'great thing': 16959,\n",
       " 'thing came': 40602,\n",
       " 'came comfo': 5644,\n",
       " 'comfo zone': 7307,\n",
       " 'zone goodtogreat': 49526,\n",
       " 'goodtogreat inspirem': 16585,\n",
       " 'inspirem love': 20889,\n",
       " 'great thing came': 16960,\n",
       " 'thing came comfo': 40603,\n",
       " 'came comfo zone': 5645,\n",
       " 'comfo zone goodtogreat': 7308,\n",
       " 'zone goodtogreat inspirem': 49527,\n",
       " 'goodtogreat inspirem love': 16586,\n",
       " 'great thing came comfo': 16961,\n",
       " 'thing came comfo zone': 40604,\n",
       " 'came comfo zone goodtogreat': 5646,\n",
       " 'comfo zone goodtogreat inspirem': 7309,\n",
       " 'zone goodtogreat inspirem love': 49528,\n",
       " 'great thing came comfo zone': 16962,\n",
       " 'thing came comfo zone goodtogreat': 40605,\n",
       " 'came comfo zone goodtogreat inspirem': 5647,\n",
       " 'comfo zone goodtogreat inspirem love': 7310,\n",
       " 'end': 11648,\n",
       " 'fun': 15299,\n",
       " 'amp': 1133,\n",
       " 'inspir': 20855,\n",
       " 'bridal': 5072,\n",
       " 'shower': 36505,\n",
       " 'dann': 8827,\n",
       " 'end day': 11669,\n",
       " 'day fun': 9111,\n",
       " 'fun amp': 15300,\n",
       " 'amp inspir': 1239,\n",
       " 'inspir bridal': 20856,\n",
       " 'bridal shower': 5073,\n",
       " 'shower happi': 36506,\n",
       " 'happi dann': 17631,\n",
       " 'dann inspir': 8828,\n",
       " 'end day fun': 11670,\n",
       " 'day fun amp': 9112,\n",
       " 'fun amp inspir': 15301,\n",
       " 'amp inspir bridal': 1240,\n",
       " 'inspir bridal shower': 20857,\n",
       " 'bridal shower happi': 5074,\n",
       " 'shower happi dann': 36507,\n",
       " 'happi dann inspir': 17632,\n",
       " 'end day fun amp': 11671,\n",
       " 'day fun amp inspir': 9113,\n",
       " 'fun amp inspir bridal': 15302,\n",
       " 'amp inspir bridal shower': 1241,\n",
       " 'inspir bridal shower happi': 20858,\n",
       " 'bridal shower happi dann': 5075,\n",
       " 'shower happi dann inspir': 36508,\n",
       " 'end day fun amp inspir': 11672,\n",
       " 'day fun amp inspir bridal': 9114,\n",
       " 'fun amp inspir bridal shower': 15303,\n",
       " 'amp inspir bridal shower happi': 1242,\n",
       " 'inspir bridal shower happi dann': 20859,\n",
       " 'bridal shower happi dann inspir': 5076,\n",
       " 'hello': 18733,\n",
       " 'maggystylerd': 25373,\n",
       " 'rd': 33328,\n",
       " 'lifestyl': 23505,\n",
       " 'lifestyleblogg': 23520,\n",
       " 'likeforlik': 23769,\n",
       " 'aipo': 560,\n",
       " 'hello maggystylerd': 18749,\n",
       " 'maggystylerd rd': 25374,\n",
       " 'rd lifestyl': 33329,\n",
       " 'lifestyl lifestyleblogg': 23510,\n",
       " 'lifestyleblogg likeforlik': 23521,\n",
       " 'likeforlik aipo': 23770,\n",
       " 'hello maggystylerd rd': 18750,\n",
       " 'maggystylerd rd lifestyl': 25375,\n",
       " 'rd lifestyl lifestyleblogg': 33330,\n",
       " 'lifestyl lifestyleblogg likeforlik': 23511,\n",
       " 'lifestyleblogg likeforlik aipo': 23522,\n",
       " 'hello maggystylerd rd lifestyl': 18751,\n",
       " 'maggystylerd rd lifestyl lifestyleblogg': 25376,\n",
       " 'rd lifestyl lifestyleblogg likeforlik': 33331,\n",
       " 'lifestyl lifestyleblogg likeforlik aipo': 23512,\n",
       " 'hello maggystylerd rd lifestyl lifestyleblogg': 18752,\n",
       " 'maggystylerd rd lifestyl lifestyleblogg likeforlik': 25377,\n",
       " 'rd lifestyl lifestyleblogg likeforlik aipo': 33332,\n",
       " 'buy': 5548,\n",
       " 'anyth': 1902,\n",
       " 'funni': 15427,\n",
       " 'homophonb': 19385,\n",
       " 'racist': 33039,\n",
       " 'defens': 9667,\n",
       " 'user user': 45447,\n",
       " 'user buy': 43444,\n",
       " 'buy anyth': 5549,\n",
       " 'anyth funni': 1908,\n",
       " 'funni homophonb': 15435,\n",
       " 'homophonb racist': 19386,\n",
       " 'racist defens': 33046,\n",
       " 'user user user': 45739,\n",
       " 'user user buy': 45488,\n",
       " 'user buy anyth': 43445,\n",
       " 'buy anyth funni': 5550,\n",
       " 'anyth funni homophonb': 1909,\n",
       " 'funni homophonb racist': 15436,\n",
       " 'homophonb racist defens': 19387,\n",
       " 'user user user buy': 45747,\n",
       " 'user user buy anyth': 45489,\n",
       " 'user buy anyth funni': 43446,\n",
       " 'buy anyth funni homophonb': 5551,\n",
       " 'anyth funni homophonb racist': 1910,\n",
       " 'funni homophonb racist defens': 15437,\n",
       " 'user user user buy anyth': 45748,\n",
       " 'user user buy anyth funni': 45490,\n",
       " 'user buy anyth funni homophonb': 43447,\n",
       " 'buy anyth funni homophonb racist': 5552,\n",
       " 'anyth funni homophonb racist defens': 1911,\n",
       " 'wish': 48181,\n",
       " 'wouldv': 48845,\n",
       " 'month': 27165,\n",
       " 'ago': 458,\n",
       " 'pet': 30897,\n",
       " 'medic': 26286,\n",
       " 'wish wouldv': 48224,\n",
       " 'wouldv user': 48846,\n",
       " 'user month': 44525,\n",
       " 'month ago': 27166,\n",
       " 'ago save': 459,\n",
       " 'save pet': 35335,\n",
       " 'pet medic': 30910,\n",
       " 'wish wouldv user': 48225,\n",
       " 'wouldv user month': 48847,\n",
       " 'user month ago': 44526,\n",
       " 'month ago save': 27167,\n",
       " 'ago save pet': 460,\n",
       " 'save pet medic': 35336,\n",
       " 'wish wouldv user month': 48226,\n",
       " 'wouldv user month ago': 48848,\n",
       " 'user month ago save': 44527,\n",
       " 'month ago save pet': 27168,\n",
       " 'ago save pet medic': 461,\n",
       " 'wish wouldv user month ago': 48227,\n",
       " 'wouldv user month ago save': 48849,\n",
       " 'user month ago save pet': 44528,\n",
       " 'month ago save pet medic': 27169,\n",
       " 'bitch': 4257,\n",
       " 'need': 27996,\n",
       " 'goto': 16765,\n",
       " 'school': 35539,\n",
       " 'drop': 11076,\n",
       " 'lay': 22755,\n",
       " 'nigga': 28678,\n",
       " 'user bitch': 43387,\n",
       " 'bitch need': 4274,\n",
       " 'need goto': 28026,\n",
       " 'goto school': 16766,\n",
       " 'school drop': 35548,\n",
       " 'drop lay': 11077,\n",
       " 'lay nigga': 22760,\n",
       " 'user bitch need': 43388,\n",
       " 'bitch need goto': 4275,\n",
       " 'need goto school': 28027,\n",
       " 'goto school drop': 16767,\n",
       " 'school drop lay': 35549,\n",
       " 'drop lay nigga': 11078,\n",
       " 'user bitch need goto': 43389,\n",
       " 'bitch need goto school': 4276,\n",
       " 'need goto school drop': 28028,\n",
       " 'goto school drop lay': 16768,\n",
       " 'school drop lay nigga': 35550,\n",
       " 'user bitch need goto school': 43390,\n",
       " 'bitch need goto school drop': 4277,\n",
       " 'need goto school drop lay': 28029,\n",
       " 'goto school drop lay nigga': 16769,\n",
       " 'tell': 40022,\n",
       " 'aryan': 2170,\n",
       " 'allow': 731,\n",
       " 'rape': 33250,\n",
       " 'women': 48341,\n",
       " 'troll': 42222,\n",
       " 'eod': 11877,\n",
       " 'user tell': 45258,\n",
       " 'tell aryan': 40023,\n",
       " 'aryan allow': 2171,\n",
       " 'allow rape': 739,\n",
       " 'rape women': 33255,\n",
       " 'women troll': 48353,\n",
       " 'troll eod': 42223,\n",
       " 'eod user': 11878,\n",
       " 'user tell aryan': 45259,\n",
       " 'tell aryan allow': 40024,\n",
       " 'aryan allow rape': 2172,\n",
       " 'allow rape women': 740,\n",
       " 'rape women troll': 33256,\n",
       " 'women troll eod': 48354,\n",
       " 'troll eod user': 42224,\n",
       " 'eod user user': 11879,\n",
       " 'user tell aryan allow': 45260,\n",
       " 'tell aryan allow rape': 40025,\n",
       " 'aryan allow rape women': 2173,\n",
       " 'allow rape women troll': 741,\n",
       " 'rape women troll eod': 33257,\n",
       " 'women troll eod user': 48355,\n",
       " 'troll eod user user': 42225,\n",
       " 'user tell aryan allow rape': 45261,\n",
       " 'tell aryan allow rape women': 40026,\n",
       " 'aryan allow rape women troll': 2174,\n",
       " 'allow rape women troll eod': 742,\n",
       " 'rape women troll eod user': 33258,\n",
       " 'women troll eod user user': 48356,\n",
       " 'soulmat': 37658,\n",
       " 'coupl': 7944,\n",
       " 'situmorang': 36816,\n",
       " 'harianja': 18162,\n",
       " 'soulmat coupl': 37659,\n",
       " 'coupl situmorang': 7965,\n",
       " 'situmorang harianja': 36817,\n",
       " 'harianja user': 18163,\n",
       " 'soulmat coupl situmorang': 37660,\n",
       " 'coupl situmorang harianja': 7966,\n",
       " 'situmorang harianja user': 36818,\n",
       " 'soulmat coupl situmorang harianja': 37661,\n",
       " 'coupl situmorang harianja user': 7967,\n",
       " 'soulmat coupl situmorang harianja user': 37662,\n",
       " 'differ': 10136,\n",
       " 'word': 48484,\n",
       " 'altogeth': 856,\n",
       " 'defin': 9676,\n",
       " 'hatr': 18293,\n",
       " 'white': 47979,\n",
       " 'andor': 1503,\n",
       " 'men': 26385,\n",
       " 'satisfi': 35243,\n",
       " 'hate': 18216,\n",
       " 'ppl': 32034,\n",
       " 'like': 23569,\n",
       " 'user need': 44569,\n",
       " 'need differ': 28018,\n",
       " 'differ word': 10142,\n",
       " 'word altogeth': 48489,\n",
       " 'altogeth defin': 857,\n",
       " 'defin hatr': 9677,\n",
       " 'hatr white': 18301,\n",
       " 'white andor': 47988,\n",
       " 'andor men': 1508,\n",
       " 'men satisfi': 26398,\n",
       " 'satisfi hate': 35244,\n",
       " 'hate ppl': 18265,\n",
       " 'ppl like': 32047,\n",
       " 'user need differ': 44570,\n",
       " 'need differ word': 28019,\n",
       " 'differ word altogeth': 10143,\n",
       " 'word altogeth defin': 48490,\n",
       " 'altogeth defin hatr': 858,\n",
       " 'defin hatr white': 9678,\n",
       " 'hatr white andor': 18302,\n",
       " 'white andor men': 47989,\n",
       " 'andor men satisfi': 1509,\n",
       " 'men satisfi hate': 26399,\n",
       " 'satisfi hate ppl': 35245,\n",
       " 'hate ppl like': 18266,\n",
       " 'user need differ word': 44571,\n",
       " 'need differ word altogeth': 28020,\n",
       " 'differ word altogeth defin': 10144,\n",
       " 'word altogeth defin hatr': 48491,\n",
       " 'altogeth defin hatr white': 859,\n",
       " 'defin hatr white andor': 9679,\n",
       " 'hatr white andor men': 18303,\n",
       " 'white andor men satisfi': 47990,\n",
       " 'andor men satisfi hate': 1510,\n",
       " 'men satisfi hate ppl': 26400,\n",
       " 'satisfi hate ppl like': 35246,\n",
       " 'user need differ word altogeth': 44572,\n",
       " 'need differ word altogeth defin': 28021,\n",
       " 'differ word altogeth defin hatr': 10145,\n",
       " 'word altogeth defin hatr white': 48492,\n",
       " 'altogeth defin hatr white andor': 860,\n",
       " 'defin hatr white andor men': 9680,\n",
       " 'hatr white andor men satisfi': 18304,\n",
       " 'white andor men satisfi hate': 47991,\n",
       " 'andor men satisfi hate ppl': 1511,\n",
       " 'men satisfi hate ppl like': 26401,\n",
       " 'themeowood': 40517,\n",
       " 'puppi': 32732,\n",
       " 'themeowood puppi': 40518,\n",
       " 'make': 25463,\n",
       " 'innovativen': 20812,\n",
       " 'make innovativen': 25561,\n",
       " 'realli': 33539,\n",
       " 'want': 46882,\n",
       " 'foot': 14553,\n",
       " 'user realli': 44922,\n",
       " 'realli want': 33612,\n",
       " 'want come': 46913,\n",
       " 'come daughter': 7208,\n",
       " 'daughter realli': 8920,\n",
       " 'realli foot': 33553,\n",
       " 'user realli want': 44926,\n",
       " 'realli want come': 33613,\n",
       " 'want come daughter': 46914,\n",
       " 'come daughter realli': 7209,\n",
       " 'daughter realli foot': 8921,\n",
       " 'user realli want come': 44927,\n",
       " 'realli want come daughter': 33614,\n",
       " 'want come daughter realli': 46915,\n",
       " 'come daughter realli foot': 7210,\n",
       " 'user realli want come daughter': 44928,\n",
       " 'realli want come daughter realli': 33615,\n",
       " 'want come daughter realli foot': 46916,\n",
       " 'sexysaturday': 36146,\n",
       " 'upcom': 42915,\n",
       " 'viual': 46524,\n",
       " 'quot': 32915,\n",
       " 'teaser': 39960,\n",
       " 'read': 33360,\n",
       " 'amwrit': 1455,\n",
       " 'erotica': 11976,\n",
       " 'novella': 29011,\n",
       " 'sexysaturday upcom': 36151,\n",
       " 'upcom viual': 42919,\n",
       " 'viual love': 46525,\n",
       " 'love quot': 24918,\n",
       " 'quot teaser': 32957,\n",
       " 'teaser read': 39961,\n",
       " 'read amwrit': 33361,\n",
       " 'amwrit erotica': 1456,\n",
       " 'erotica novella': 11977,\n",
       " 'sexysaturday upcom viual': 36152,\n",
       " 'upcom viual love': 42920,\n",
       " 'viual love quot': 46526,\n",
       " 'love quot teaser': 24919,\n",
       " 'quot teaser read': 32958,\n",
       " 'teaser read amwrit': 39962,\n",
       " 'read amwrit erotica': 33362,\n",
       " 'amwrit erotica novella': 1457,\n",
       " 'sexysaturday upcom viual love': 36153,\n",
       " 'upcom viual love quot': 42921,\n",
       " 'viual love quot teaser': 46527,\n",
       " 'love quot teaser read': 24920,\n",
       " 'quot teaser read amwrit': 32959,\n",
       " 'teaser read amwrit erotica': 39963,\n",
       " 'read amwrit erotica novella': 33363,\n",
       " 'sexysaturday upcom viual love quot': 36154,\n",
       " 'upcom viual love quot teaser': 42922,\n",
       " 'viual love quot teaser read': 46528,\n",
       " 'love quot teaser read amwrit': 24921,\n",
       " 'quot teaser read amwrit erotica': 32960,\n",
       " 'teaser read amwrit erotica novella': 39964,\n",
       " 'cherri': 6413,\n",
       " 'color': 7131,\n",
       " 'symbol': 39543,\n",
       " 'warm': 47027,\n",
       " 'energi': 11710,\n",
       " 'necklac': 27986,\n",
       " 'price': 32295,\n",
       " 'stone': 38414,\n",
       " 'amaz': 981,\n",
       " 'beauti': 3185,\n",
       " 'cherri color': 6418,\n",
       " 'color symbol': 7148,\n",
       " 'symbol warm': 39544,\n",
       " 'warm posit': 47029,\n",
       " 'posit energi': 31851,\n",
       " 'energi necklac': 11711,\n",
       " 'necklac price': 27987,\n",
       " 'price stone': 32309,\n",
       " 'stone gift': 38415,\n",
       " 'gift amaz': 15885,\n",
       " 'amaz beauti': 985,\n",
       " 'cherri color symbol': 6419,\n",
       " 'color symbol warm': 7149,\n",
       " 'symbol warm posit': 39545,\n",
       " 'warm posit energi': 47030,\n",
       " 'posit energi necklac': 31852,\n",
       " 'energi necklac price': 11712,\n",
       " 'necklac price stone': 27988,\n",
       " 'price stone gift': 32310,\n",
       " 'stone gift amaz': 38416,\n",
       " 'gift amaz beauti': 15886,\n",
       " 'cherri color symbol warm': 6420,\n",
       " 'color symbol warm posit': 7150,\n",
       " 'symbol warm posit energi': 39546,\n",
       " 'warm posit energi necklac': 47031,\n",
       " 'posit energi necklac price': 31853,\n",
       " 'energi necklac price stone': 11713,\n",
       " 'necklac price stone gift': 27989,\n",
       " 'price stone gift amaz': 32311,\n",
       " 'stone gift amaz beauti': 38417,\n",
       " 'cherri color symbol warm posit': 6421,\n",
       " 'color symbol warm posit energi': 7151,\n",
       " 'symbol warm posit energi necklac': 39547,\n",
       " 'warm posit energi necklac price': 47032,\n",
       " 'posit energi necklac price stone': 31854,\n",
       " 'energi necklac price stone gift': 11714,\n",
       " 'necklac price stone gift amaz': 27990,\n",
       " 'price stone gift amaz beauti': 32312,\n",
       " 'project': 32502,\n",
       " 'week': 47482,\n",
       " 'june': 21729,\n",
       " 'blog': 4527,\n",
       " 'silver': 36603,\n",
       " 'forex': 14648,\n",
       " 'project week': 32512,\n",
       " 'week june': 47515,\n",
       " 'june blog': 21730,\n",
       " 'blog silver': 4532,\n",
       " 'silver gold': 36604,\n",
       " 'gold forex': 16309,\n",
       " 'project week june': 32513,\n",
       " 'week june blog': 47516,\n",
       " 'june blog silver': 21731,\n",
       " 'blog silver gold': 4533,\n",
       " 'silver gold forex': 36605,\n",
       " 'project week june blog': 32514,\n",
       " 'week june blog silver': 47517,\n",
       " 'june blog silver gold': 21732,\n",
       " 'blog silver gold forex': 4534,\n",
       " 'project week june blog silver': 32515,\n",
       " 'week june blog silver gold': 47518,\n",
       " 'june blog silver gold forex': 21733,\n",
       " 'chang': 6217,\n",
       " 'elimin': 11514,\n",
       " 'negat': 28124,\n",
       " 'choos': 6607,\n",
       " 'live': 24011,\n",
       " 'insteadâ': 21023,\n",
       " 'today day': 41325,\n",
       " 'day make': 9224,\n",
       " 'make chang': 25482,\n",
       " 'chang elimin': 6226,\n",
       " 'elimin negat': 11515,\n",
       " 'negat choos': 28125,\n",
       " 'choos live': 6620,\n",
       " 'live posit': 24057,\n",
       " 'posit lifestyl': 31869,\n",
       " 'lifestyl insteadâ': 23509,\n",
       " 'today day make': 41326,\n",
       " 'day make chang': 9225,\n",
       " 'make chang elimin': 25483,\n",
       " 'chang elimin negat': 6227,\n",
       " 'elimin negat choos': 11516,\n",
       " 'negat choos live': 28126,\n",
       " 'choos live posit': 6621,\n",
       " 'live posit lifestyl': 24058,\n",
       " 'posit lifestyl insteadâ': 31870,\n",
       " 'today day make chang': 41327,\n",
       " 'day make chang elimin': 9226,\n",
       " 'make chang elimin negat': 25484,\n",
       " 'chang elimin negat choos': 6228,\n",
       " 'elimin negat choos live': 11517,\n",
       " 'negat choos live posit': 28127,\n",
       " 'choos live posit lifestyl': 6622,\n",
       " 'live posit lifestyl insteadâ': 24059,\n",
       " 'today day make chang elimin': 41328,\n",
       " 'day make chang elimin negat': 9227,\n",
       " 'make chang elimin negat choos': 25485,\n",
       " 'chang elimin negat choos live': 6229,\n",
       " 'elimin negat choos live posit': 11518,\n",
       " 'negat choos live posit lifestyl': 28128,\n",
       " 'choos live posit lifestyl insteadâ': 6623,\n",
       " 'hitler': 19121,\n",
       " 'comparison': 7392,\n",
       " 'user hitler': 44089,\n",
       " 'hitler comparison': 19122,\n",
       " 'user hitler comparison': 44090,\n",
       " 'shameless': 36179,\n",
       " 'season': 35676,\n",
       " 'orangeisthenewblack': 29709,\n",
       " 'ó¾': 49746,\n",
       " 'oop': 29575,\n",
       " 'got': 16659,\n",
       " 'troubl': 42247,\n",
       " 'tag': 39582,\n",
       " 'oinb': 29373,\n",
       " 'im shameless': 20454,\n",
       " 'shameless season': 36180,\n",
       " 'season orangeisthenewblack': 35685,\n",
       " 'orangeisthenewblack ó¾': 29710,\n",
       " 'ó¾ oop': 49757,\n",
       " 'oop got': 29576,\n",
       " 'got troubl': 16757,\n",
       " 'troubl tag': 42248,\n",
       " 'tag oinb': 39591,\n",
       " 'im shameless season': 20455,\n",
       " 'shameless season orangeisthenewblack': 36181,\n",
       " 'season orangeisthenewblack ó¾': 35686,\n",
       " 'orangeisthenewblack ó¾ oop': 29711,\n",
       " 'ó¾ oop got': 49758,\n",
       " 'oop got troubl': 29577,\n",
       " 'got troubl tag': 16758,\n",
       " 'troubl tag oinb': 42249,\n",
       " 'im shameless season orangeisthenewblack': 20456,\n",
       " 'shameless season orangeisthenewblack ó¾': 36182,\n",
       " 'season orangeisthenewblack ó¾ oop': 35687,\n",
       " 'orangeisthenewblack ó¾ oop got': 29712,\n",
       " 'ó¾ oop got troubl': 49759,\n",
       " 'oop got troubl tag': 29578,\n",
       " 'got troubl tag oinb': 16759,\n",
       " 'im shameless season orangeisthenewblack ó¾': 20457,\n",
       " 'shameless season orangeisthenewblack ó¾ oop': 36183,\n",
       " 'season orangeisthenewblack ó¾ oop got': 35688,\n",
       " 'orangeisthenewblack ó¾ oop got troubl': 29713,\n",
       " 'ó¾ oop got troubl tag': 49760,\n",
       " 'oop got troubl tag oinb': 29579,\n",
       " 'shock': 36325,\n",
       " 'event': 12155,\n",
       " 'orlando': 29787,\n",
       " 'usa': 43039,\n",
       " 'review': 34297,\n",
       " 'gun': 17210,\n",
       " 'law': 22707,\n",
       " 'innoc': 20792,\n",
       " 'die': 10114,\n",
       " 'horrif': 19519,\n",
       " 'unforgiv': 42833,\n",
       " 'shock event': 36326,\n",
       " 'event orlando': 12166,\n",
       " 'orlando usa': 29853,\n",
       " 'usa review': 43048,\n",
       " 'review gun': 34298,\n",
       " 'gun law': 17232,\n",
       " 'law innoc': 22712,\n",
       " 'innoc die': 20801,\n",
       " 'die horrif': 10115,\n",
       " 'horrif unforgiv': 19523,\n",
       " 'shock event orlando': 36327,\n",
       " 'event orlando usa': 12167,\n",
       " 'orlando usa review': 29857,\n",
       " 'usa review gun': 43049,\n",
       " 'review gun law': 34299,\n",
       " 'gun law innoc': 17233,\n",
       " 'law innoc die': 22713,\n",
       " 'innoc die horrif': 20802,\n",
       " 'die horrif unforgiv': 10116,\n",
       " 'shock event orlando usa': 36328,\n",
       " 'event orlando usa review': 12168,\n",
       " 'orlando usa review gun': 29858,\n",
       " 'usa review gun law': 43050,\n",
       " 'review gun law innoc': 34300,\n",
       " 'gun law innoc die': 17234,\n",
       " 'law innoc die horrif': 22714,\n",
       " 'innoc die horrif unforgiv': 20803,\n",
       " 'shock event orlando usa review': 36329,\n",
       " 'event orlando usa review gun': 12169,\n",
       " 'orlando usa review gun law': 29859,\n",
       " 'usa review gun law innoc': 43051,\n",
       " 'review gun law innoc die': 34301,\n",
       " 'gun law innoc die horrif': 17235,\n",
       " 'law innoc die horrif unforgiv': 22715,\n",
       " 'someon': 37408,\n",
       " 'effo': 11426,\n",
       " 'peopl': 30563,\n",
       " 'fan': 12947,\n",
       " 'talend': 39633,\n",
       " 'goe': 16261,\n",
       " 'ripchristinagrimmi': 34552,\n",
       " 'ommmi': 29530,\n",
       " 'justic': 21775,\n",
       " 'someon effo': 37411,\n",
       " 'effo make': 11431,\n",
       " 'make peopl': 25587,\n",
       " 'peopl fan': 30631,\n",
       " 'fan happi': 12970,\n",
       " 'happi talend': 17975,\n",
       " 'talend goe': 39634,\n",
       " 'goe ripchristinagrimmi': 16277,\n",
       " 'ripchristinagrimmi ommmi': 34553,\n",
       " 'ommmi justic': 29531,\n",
       " 'someon effo make': 37412,\n",
       " 'effo make peopl': 11432,\n",
       " 'make peopl fan': 25588,\n",
       " 'peopl fan happi': 30632,\n",
       " 'fan happi talend': 12971,\n",
       " 'happi talend goe': 17976,\n",
       " 'talend goe ripchristinagrimmi': 39635,\n",
       " 'goe ripchristinagrimmi ommmi': 16278,\n",
       " 'ripchristinagrimmi ommmi justic': 34554,\n",
       " 'someon effo make peopl': 37413,\n",
       " 'effo make peopl fan': 11433,\n",
       " 'make peopl fan happi': 25589,\n",
       " 'peopl fan happi talend': 30633,\n",
       " 'fan happi talend goe': 12972,\n",
       " 'happi talend goe ripchristinagrimmi': 17977,\n",
       " 'talend goe ripchristinagrimmi ommmi': 39636,\n",
       " 'goe ripchristinagrimmi ommmi justic': 16279,\n",
       " 'someon effo make peopl fan': 37414,\n",
       " 'effo make peopl fan happi': 11434,\n",
       " 'make peopl fan happi talend': 25590,\n",
       " 'peopl fan happi talend goe': 30634,\n",
       " 'fan happi talend goe ripchristinagrimmi': 12973,\n",
       " 'happi talend goe ripchristinagrimmi ommmi': 17978,\n",
       " 'talend goe ripchristinagrimmi ommmi justic': 39637,\n",
       " 'latest': 22600,\n",
       " 'positivementalattitud': 31887,\n",
       " 'latest positivementalattitud': 22613,\n",
       " 'positivementalattitud thank': 31888,\n",
       " 'thank user': 40413,\n",
       " 'user posit': 44803,\n",
       " 'latest positivementalattitud thank': 22614,\n",
       " 'positivementalattitud thank user': 31889,\n",
       " 'thank user user': 40424,\n",
       " 'user user posit': 45653,\n",
       " 'latest positivementalattitud thank user': 22615,\n",
       " 'positivementalattitud thank user user': 31890,\n",
       " 'thank user user user': 40425,\n",
       " 'user user user posit': 45788,\n",
       " 'latest positivementalattitud thank user user': 22616,\n",
       " 'positivementalattitud thank user user user': 31891,\n",
       " 'thank user user user posit': 40427,\n",
       " 'sadwav': 35046,\n",
       " 'suga': 38836,\n",
       " 'kpop': 22390,\n",
       " 'bts': 5335,\n",
       " 'bangtanboy': 2867,\n",
       " 'edit': 11349,\n",
       " 'fmv': 14380,\n",
       " 'minyoongi': 26786,\n",
       " 'yoongi': 49309,\n",
       " 'babe': 2619,\n",
       " 'cute': 8433,\n",
       " 'au': 2389,\n",
       " 'sadwav suga': 35047,\n",
       " 'suga kpop': 38837,\n",
       " 'kpop bts': 22391,\n",
       " 'bts bangtanboy': 5336,\n",
       " 'bangtanboy edit': 2868,\n",
       " 'edit fmv': 11358,\n",
       " 'fmv minyoongi': 14381,\n",
       " 'minyoongi yoongi': 26787,\n",
       " 'yoongi babe': 49310,\n",
       " 'babe cute': 2624,\n",
       " 'cute au': 8434,\n",
       " 'sadwav suga kpop': 35048,\n",
       " ...}"
      ]
     },
     "execution_count": 51,
     "metadata": {},
     "output_type": "execute_result"
    }
   ],
   "source": [
    "count.vocabulary_"
   ]
  },
  {
   "cell_type": "code",
   "execution_count": 52,
   "id": "f62b003a",
   "metadata": {},
   "outputs": [],
   "source": [
    "from sklearn.feature_extraction.text import TfidfTransformer\n",
    "tfidf = TfidfTransformer()\n",
    "\n",
    "x_train_tfidf = tfidf.fit_transform(x_train_vectorizer)\n",
    "\n",
    "x_train_tfidf.toarray()\n",
    "x_test_tfidf = tfidf.transform(x_test_vectorizer)"
   ]
  },
  {
   "cell_type": "code",
   "execution_count": 53,
   "id": "36ffd03d",
   "metadata": {},
   "outputs": [],
   "source": [
    "from sklearn.naive_bayes import MultinomialNB\n",
    "from sklearn.metrics import classification_report\n",
    "from sklearn.metrics import confusion_matrix"
   ]
  },
  {
   "cell_type": "code",
   "execution_count": 54,
   "id": "21b70430",
   "metadata": {},
   "outputs": [
    {
     "name": "stdout",
     "output_type": "stream",
     "text": [
      "[[696   0]\n",
      " [ 42  12]]\n",
      "              precision    recall  f1-score   support\n",
      "\n",
      "           0       0.94      1.00      0.97       696\n",
      "           1       1.00      0.22      0.36        54\n",
      "\n",
      "    accuracy                           0.94       750\n",
      "   macro avg       0.97      0.61      0.67       750\n",
      "weighted avg       0.95      0.94      0.93       750\n",
      "\n"
     ]
    }
   ],
   "source": [
    "model_vectorizer= MultinomialNB().fit(x_train_vectorizer, y_train)\n",
    "prediction_vectorizer=model_vectorizer.predict(x_test_vectorizer)\n",
    "print(confusion_matrix(y_test,prediction_vectorizer))\n",
    "print (classification_report(y_test, prediction_vectorizer))"
   ]
  },
  {
   "cell_type": "code",
   "execution_count": 55,
   "id": "542f0688",
   "metadata": {},
   "outputs": [
    {
     "name": "stdout",
     "output_type": "stream",
     "text": [
      "              precision    recall  f1-score   support\n",
      "\n",
      "           0       0.93      1.00      0.96       696\n",
      "           1       0.00      0.00      0.00        54\n",
      "\n",
      "    accuracy                           0.93       750\n",
      "   macro avg       0.46      0.50      0.48       750\n",
      "weighted avg       0.86      0.93      0.89       750\n",
      "\n",
      "[[696   0]\n",
      " [ 54   0]]\n"
     ]
    }
   ],
   "source": [
    "model_tfidf= MultinomialNB().fit(x_train_tfidf, y_train)\n",
    "prediction_tfidf=model_tfidf.predict(x_test_tfidf)\n",
    "print (classification_report(y_test, prediction_tfidf))\n",
    "print(confusion_matrix(y_test,prediction_tfidf))"
   ]
  },
  {
   "cell_type": "code",
   "execution_count": 56,
   "id": "742968a2",
   "metadata": {},
   "outputs": [],
   "source": [
    "import xgboost as xgb\n",
    "xgb_model=xgb.XGBClassifier(\n",
    "        learning_rate=0.1,\n",
    "        max_depth=7,\n",
    "        n_estimators=80,\n",
    "        use_label_encoder=False,\n",
    "        eval_metric='auc' )"
   ]
  },
  {
   "cell_type": "code",
   "execution_count": 57,
   "id": "b23ccb07",
   "metadata": {},
   "outputs": [
    {
     "name": "stdout",
     "output_type": "stream",
     "text": [
      "[[693   3]\n",
      " [ 46   8]]\n",
      "              precision    recall  f1-score   support\n",
      "\n",
      "           0       0.94      1.00      0.97       696\n",
      "           1       0.73      0.15      0.25        54\n",
      "\n",
      "    accuracy                           0.93       750\n",
      "   macro avg       0.83      0.57      0.61       750\n",
      "weighted avg       0.92      0.93      0.91       750\n",
      "\n"
     ]
    }
   ],
   "source": [
    "xgb_model_vectorizer = xgb_model.fit(x_train_vectorizer, y_train)\n",
    "xgb_predictions_vectorizer=xgb_model_vectorizer.predict(x_test_vectorizer)\n",
    "print(confusion_matrix(y_test,xgb_predictions_vectorizer))\n",
    "print (classification_report(y_test, xgb_predictions_vectorizer))"
   ]
  },
  {
   "cell_type": "code",
   "execution_count": 58,
   "id": "33bb1dbf",
   "metadata": {},
   "outputs": [
    {
     "name": "stdout",
     "output_type": "stream",
     "text": [
      "[[695   1]\n",
      " [ 49   5]]\n",
      "              precision    recall  f1-score   support\n",
      "\n",
      "           0       0.93      1.00      0.97       696\n",
      "           1       0.83      0.09      0.17        54\n",
      "\n",
      "    accuracy                           0.93       750\n",
      "   macro avg       0.88      0.55      0.57       750\n",
      "weighted avg       0.93      0.93      0.91       750\n",
      "\n"
     ]
    }
   ],
   "source": [
    "xgb_model = xgb_model.fit(x_train_tfidf, y_train)\n",
    "xgb_predictions=xgb_model.predict(x_test_tfidf)\n",
    "print(confusion_matrix(y_test,xgb_predictions))\n",
    "print (classification_report(y_test, xgb_predictions))"
   ]
  },
  {
   "cell_type": "code",
   "execution_count": 66,
   "id": "63cc4ec7",
   "metadata": {},
   "outputs": [],
   "source": [
    "from sklearn.ensemble import RandomForestClassifier\n",
    "from sklearn.metrics import confusion_matrix, classification_report"
   ]
  },
  {
   "cell_type": "code",
   "execution_count": 67,
   "id": "2228d896",
   "metadata": {},
   "outputs": [
    {
     "data": {
      "text/html": [
       "<style>#sk-container-id-1 {color: black;background-color: white;}#sk-container-id-1 pre{padding: 0;}#sk-container-id-1 div.sk-toggleable {background-color: white;}#sk-container-id-1 label.sk-toggleable__label {cursor: pointer;display: block;width: 100%;margin-bottom: 0;padding: 0.3em;box-sizing: border-box;text-align: center;}#sk-container-id-1 label.sk-toggleable__label-arrow:before {content: \"▸\";float: left;margin-right: 0.25em;color: #696969;}#sk-container-id-1 label.sk-toggleable__label-arrow:hover:before {color: black;}#sk-container-id-1 div.sk-estimator:hover label.sk-toggleable__label-arrow:before {color: black;}#sk-container-id-1 div.sk-toggleable__content {max-height: 0;max-width: 0;overflow: hidden;text-align: left;background-color: #f0f8ff;}#sk-container-id-1 div.sk-toggleable__content pre {margin: 0.2em;color: black;border-radius: 0.25em;background-color: #f0f8ff;}#sk-container-id-1 input.sk-toggleable__control:checked~div.sk-toggleable__content {max-height: 200px;max-width: 100%;overflow: auto;}#sk-container-id-1 input.sk-toggleable__control:checked~label.sk-toggleable__label-arrow:before {content: \"▾\";}#sk-container-id-1 div.sk-estimator input.sk-toggleable__control:checked~label.sk-toggleable__label {background-color: #d4ebff;}#sk-container-id-1 div.sk-label input.sk-toggleable__control:checked~label.sk-toggleable__label {background-color: #d4ebff;}#sk-container-id-1 input.sk-hidden--visually {border: 0;clip: rect(1px 1px 1px 1px);clip: rect(1px, 1px, 1px, 1px);height: 1px;margin: -1px;overflow: hidden;padding: 0;position: absolute;width: 1px;}#sk-container-id-1 div.sk-estimator {font-family: monospace;background-color: #f0f8ff;border: 1px dotted black;border-radius: 0.25em;box-sizing: border-box;margin-bottom: 0.5em;}#sk-container-id-1 div.sk-estimator:hover {background-color: #d4ebff;}#sk-container-id-1 div.sk-parallel-item::after {content: \"\";width: 100%;border-bottom: 1px solid gray;flex-grow: 1;}#sk-container-id-1 div.sk-label:hover label.sk-toggleable__label {background-color: #d4ebff;}#sk-container-id-1 div.sk-serial::before {content: \"\";position: absolute;border-left: 1px solid gray;box-sizing: border-box;top: 0;bottom: 0;left: 50%;z-index: 0;}#sk-container-id-1 div.sk-serial {display: flex;flex-direction: column;align-items: center;background-color: white;padding-right: 0.2em;padding-left: 0.2em;position: relative;}#sk-container-id-1 div.sk-item {position: relative;z-index: 1;}#sk-container-id-1 div.sk-parallel {display: flex;align-items: stretch;justify-content: center;background-color: white;position: relative;}#sk-container-id-1 div.sk-item::before, #sk-container-id-1 div.sk-parallel-item::before {content: \"\";position: absolute;border-left: 1px solid gray;box-sizing: border-box;top: 0;bottom: 0;left: 50%;z-index: -1;}#sk-container-id-1 div.sk-parallel-item {display: flex;flex-direction: column;z-index: 1;position: relative;background-color: white;}#sk-container-id-1 div.sk-parallel-item:first-child::after {align-self: flex-end;width: 50%;}#sk-container-id-1 div.sk-parallel-item:last-child::after {align-self: flex-start;width: 50%;}#sk-container-id-1 div.sk-parallel-item:only-child::after {width: 0;}#sk-container-id-1 div.sk-dashed-wrapped {border: 1px dashed gray;margin: 0 0.4em 0.5em 0.4em;box-sizing: border-box;padding-bottom: 0.4em;background-color: white;}#sk-container-id-1 div.sk-label label {font-family: monospace;font-weight: bold;display: inline-block;line-height: 1.2em;}#sk-container-id-1 div.sk-label-container {text-align: center;}#sk-container-id-1 div.sk-container {/* jupyter's `normalize.less` sets `[hidden] { display: none; }` but bootstrap.min.css set `[hidden] { display: none !important; }` so we also need the `!important` here to be able to override the default hidden behavior on the sphinx rendered scikit-learn.org. See: https://github.com/scikit-learn/scikit-learn/issues/21755 */display: inline-block !important;position: relative;}#sk-container-id-1 div.sk-text-repr-fallback {display: none;}</style><div id=\"sk-container-id-1\" class=\"sk-top-container\"><div class=\"sk-text-repr-fallback\"><pre>RandomForestClassifier()</pre><b>In a Jupyter environment, please rerun this cell to show the HTML representation or trust the notebook. <br />On GitHub, the HTML representation is unable to render, please try loading this page with nbviewer.org.</b></div><div class=\"sk-container\" hidden><div class=\"sk-item\"><div class=\"sk-estimator sk-toggleable\"><input class=\"sk-toggleable__control sk-hidden--visually\" id=\"sk-estimator-id-1\" type=\"checkbox\" checked><label for=\"sk-estimator-id-1\" class=\"sk-toggleable__label sk-toggleable__label-arrow\">RandomForestClassifier</label><div class=\"sk-toggleable__content\"><pre>RandomForestClassifier()</pre></div></div></div></div></div>"
      ],
      "text/plain": [
       "RandomForestClassifier()"
      ]
     },
     "execution_count": 67,
     "metadata": {},
     "output_type": "execute_result"
    }
   ],
   "source": [
    "model_forest = RandomForestClassifier(n_estimators=100)  # Adjust n_estimators as needed\n",
    "model_forest.fit(x_train_vectorizer, y_train)"
   ]
  },
  {
   "cell_type": "code",
   "execution_count": 68,
   "id": "d0685cd8",
   "metadata": {},
   "outputs": [],
   "source": [
    "prediction_forest = model_forest.predict(x_test_vectorizer)"
   ]
  },
  {
   "cell_type": "code",
   "execution_count": 69,
   "id": "a8b5da37",
   "metadata": {},
   "outputs": [
    {
     "name": "stdout",
     "output_type": "stream",
     "text": [
      "[[696   0]\n",
      " [ 46   8]]\n",
      "              precision    recall  f1-score   support\n",
      "\n",
      "           0       0.94      1.00      0.97       696\n",
      "           1       1.00      0.15      0.26        54\n",
      "\n",
      "    accuracy                           0.94       750\n",
      "   macro avg       0.97      0.57      0.61       750\n",
      "weighted avg       0.94      0.94      0.92       750\n",
      "\n"
     ]
    }
   ],
   "source": [
    "print(confusion_matrix(y_test, prediction_forest))\n",
    "print(classification_report(y_test, prediction_forest))"
   ]
  },
  {
   "cell_type": "markdown",
   "id": "b82309f4",
   "metadata": {},
   "source": [
    "## Random Forrest is better in comparision to xgboost for prediction of hate speech "
   ]
  },
  {
   "cell_type": "code",
   "execution_count": null,
   "id": "bd9cb794",
   "metadata": {},
   "outputs": [],
   "source": []
  }
 ],
 "metadata": {
  "kernelspec": {
   "display_name": "Python 3 (ipykernel)",
   "language": "python",
   "name": "python3"
  },
  "language_info": {
   "codemirror_mode": {
    "name": "ipython",
    "version": 3
   },
   "file_extension": ".py",
   "mimetype": "text/x-python",
   "name": "python",
   "nbconvert_exporter": "python",
   "pygments_lexer": "ipython3",
   "version": "3.10.9"
  }
 },
 "nbformat": 4,
 "nbformat_minor": 5
}
